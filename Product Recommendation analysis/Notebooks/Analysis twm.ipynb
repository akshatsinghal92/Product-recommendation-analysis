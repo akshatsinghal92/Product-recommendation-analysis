{
 "cells": [
  {
   "cell_type": "code",
   "execution_count": 12,
   "id": "c344d854",
   "metadata": {},
   "outputs": [],
   "source": [
    "import pickle\n",
    "import pandas as pd\n",
    "import numpy as np\n",
    "import json\n",
    "from wordcloud import WordCloud, STOPWORDS\n",
    "import matplotlib.pyplot as plt\n",
    "import pandas as pd\n",
    "import seaborn as sns"
   ]
  },
  {
   "cell_type": "code",
   "execution_count": 13,
   "id": "7e5efb9c",
   "metadata": {},
   "outputs": [],
   "source": [
    "# file_to_read = open(\"twm_store_page55_79.pickle\", \"rb\")\n",
    "\n",
    "# data = pickle.load(file_to_read)\n",
    "\n",
    "# df1=pd.DataFrame(data)\n",
    "# df2=pd.read_csv('data_combined.csv')\n",
    "# df=pd.concat([df1,df2])\n",
    "# df.to_csv('full_data_TWM.csv', index=False)"
   ]
  },
  {
   "cell_type": "code",
   "execution_count": 14,
   "id": "f0e59351",
   "metadata": {},
   "outputs": [],
   "source": [
    "df=pd.read_csv('full_data_TWM.csv')"
   ]
  },
  {
   "cell_type": "code",
   "execution_count": 15,
   "id": "fd27beac",
   "metadata": {},
   "outputs": [],
   "source": [
    "df=df.replace('',np.nan)"
   ]
  },
  {
   "cell_type": "code",
   "execution_count": 16,
   "id": "efe46455",
   "metadata": {},
   "outputs": [],
   "source": [
    "df['Cons']=df['Cons'].replace('Suitable Cons could not be generated at this time.',np.nan)"
   ]
  },
  {
   "cell_type": "code",
   "execution_count": 17,
   "id": "7ec9a69f",
   "metadata": {},
   "outputs": [],
   "source": [
    "grp_data=pd.read_csv('product_sentiment.csv')"
   ]
  },
  {
   "cell_type": "code",
   "execution_count": 18,
   "id": "bb8f5fe3",
   "metadata": {},
   "outputs": [],
   "source": [
    "df=pd.merge(df, grp_data, on='Product name', how='left')\n"
   ]
  },
  {
   "cell_type": "code",
   "execution_count": 19,
   "id": "474d16ca",
   "metadata": {},
   "outputs": [
    {
     "name": "stdout",
     "output_type": "stream",
     "text": [
      "<class 'pandas.core.frame.DataFrame'>\n",
      "Int64Index: 1697 entries, 0 to 1696\n",
      "Columns: 546 entries, Product name to 511\n",
      "dtypes: float64(527), int64(6), object(13)\n",
      "memory usage: 7.1+ MB\n"
     ]
    }
   ],
   "source": [
    "df.info()"
   ]
  },
  {
   "cell_type": "code",
   "execution_count": 20,
   "id": "91dc5c50",
   "metadata": {},
   "outputs": [],
   "source": [
    "for i in range(df.shape[0]):\n",
    "    percent=df.loc[i,'recommendation_percent']\n",
    "    try:\n",
    "        if(percent[-1]=='%'):\n",
    "            df.loc[i,'recommendation_percent']=int(df.loc[i,'recommendation_percent'][:2])\n",
    "        else:\n",
    "            df.loc[i,'recommendation_percent']=int(df.loc[i,'recommendation_percent'])\n",
    "    except:\n",
    "        df.loc[i,'recommendation_percent']=np.nan\n",
    "        \n",
    "df['recommendation_percent']=df['recommendation_percent'].astype(float)"
   ]
  },
  {
   "cell_type": "code",
   "execution_count": 21,
   "id": "49d14894",
   "metadata": {},
   "outputs": [
    {
     "data": {
      "text/html": [
       "<div>\n",
       "<style scoped>\n",
       "    .dataframe tbody tr th:only-of-type {\n",
       "        vertical-align: middle;\n",
       "    }\n",
       "\n",
       "    .dataframe tbody tr th {\n",
       "        vertical-align: top;\n",
       "    }\n",
       "\n",
       "    .dataframe thead th {\n",
       "        text-align: right;\n",
       "    }\n",
       "</style>\n",
       "<table border=\"1\" class=\"dataframe\">\n",
       "  <thead>\n",
       "    <tr style=\"text-align: right;\">\n",
       "      <th></th>\n",
       "      <th>Price_per_unit</th>\n",
       "      <th>Rating</th>\n",
       "      <th>Rating_count</th>\n",
       "      <th>1 star count</th>\n",
       "      <th>2 star count</th>\n",
       "      <th>3 star count</th>\n",
       "      <th>4 star count</th>\n",
       "      <th>5 star count</th>\n",
       "      <th>Similar_product_price_1</th>\n",
       "      <th>Similar_product_price_2</th>\n",
       "      <th>...</th>\n",
       "      <th>502</th>\n",
       "      <th>503</th>\n",
       "      <th>504</th>\n",
       "      <th>505</th>\n",
       "      <th>506</th>\n",
       "      <th>507</th>\n",
       "      <th>508</th>\n",
       "      <th>509</th>\n",
       "      <th>510</th>\n",
       "      <th>511</th>\n",
       "    </tr>\n",
       "  </thead>\n",
       "  <tbody>\n",
       "    <tr>\n",
       "      <th>count</th>\n",
       "      <td>1697.000000</td>\n",
       "      <td>1690.000000</td>\n",
       "      <td>1697.000000</td>\n",
       "      <td>1697.000000</td>\n",
       "      <td>1697.000000</td>\n",
       "      <td>1697.000000</td>\n",
       "      <td>1697.000000</td>\n",
       "      <td>1697.000000</td>\n",
       "      <td>1528.000000</td>\n",
       "      <td>1282.000000</td>\n",
       "      <td>...</td>\n",
       "      <td>1467.000000</td>\n",
       "      <td>1467.000000</td>\n",
       "      <td>1467.000000</td>\n",
       "      <td>1467.000000</td>\n",
       "      <td>1467.000000</td>\n",
       "      <td>1467.000000</td>\n",
       "      <td>1467.000000</td>\n",
       "      <td>1467.000000</td>\n",
       "      <td>1467.000000</td>\n",
       "      <td>1467.000000</td>\n",
       "    </tr>\n",
       "    <tr>\n",
       "      <th>mean</th>\n",
       "      <td>70.780943</td>\n",
       "      <td>4.391302</td>\n",
       "      <td>139.015321</td>\n",
       "      <td>3.345315</td>\n",
       "      <td>2.794343</td>\n",
       "      <td>8.050678</td>\n",
       "      <td>25.047142</td>\n",
       "      <td>99.777843</td>\n",
       "      <td>41.846950</td>\n",
       "      <td>40.772356</td>\n",
       "      <td>...</td>\n",
       "      <td>-0.041860</td>\n",
       "      <td>-0.033492</td>\n",
       "      <td>0.025333</td>\n",
       "      <td>-0.032011</td>\n",
       "      <td>-0.012568</td>\n",
       "      <td>-0.019610</td>\n",
       "      <td>0.041837</td>\n",
       "      <td>0.005905</td>\n",
       "      <td>-0.036827</td>\n",
       "      <td>0.003254</td>\n",
       "    </tr>\n",
       "    <tr>\n",
       "      <th>std</th>\n",
       "      <td>297.370246</td>\n",
       "      <td>0.548631</td>\n",
       "      <td>558.294245</td>\n",
       "      <td>8.369829</td>\n",
       "      <td>8.456926</td>\n",
       "      <td>35.454792</td>\n",
       "      <td>100.402493</td>\n",
       "      <td>411.746577</td>\n",
       "      <td>24.108234</td>\n",
       "      <td>23.355653</td>\n",
       "      <td>...</td>\n",
       "      <td>0.029133</td>\n",
       "      <td>0.042110</td>\n",
       "      <td>0.033357</td>\n",
       "      <td>0.033889</td>\n",
       "      <td>0.038031</td>\n",
       "      <td>0.036165</td>\n",
       "      <td>0.028316</td>\n",
       "      <td>0.033510</td>\n",
       "      <td>0.028849</td>\n",
       "      <td>0.038407</td>\n",
       "    </tr>\n",
       "    <tr>\n",
       "      <th>min</th>\n",
       "      <td>0.790000</td>\n",
       "      <td>1.000000</td>\n",
       "      <td>0.000000</td>\n",
       "      <td>0.000000</td>\n",
       "      <td>0.000000</td>\n",
       "      <td>0.000000</td>\n",
       "      <td>0.000000</td>\n",
       "      <td>0.000000</td>\n",
       "      <td>9.990000</td>\n",
       "      <td>9.990000</td>\n",
       "      <td>...</td>\n",
       "      <td>-0.103517</td>\n",
       "      <td>-0.152394</td>\n",
       "      <td>-0.077306</td>\n",
       "      <td>-0.084358</td>\n",
       "      <td>-0.092454</td>\n",
       "      <td>-0.083429</td>\n",
       "      <td>-0.087034</td>\n",
       "      <td>-0.078539</td>\n",
       "      <td>-0.085021</td>\n",
       "      <td>-0.101154</td>\n",
       "    </tr>\n",
       "    <tr>\n",
       "      <th>25%</th>\n",
       "      <td>19.490000</td>\n",
       "      <td>4.100000</td>\n",
       "      <td>6.000000</td>\n",
       "      <td>0.000000</td>\n",
       "      <td>0.000000</td>\n",
       "      <td>0.000000</td>\n",
       "      <td>1.000000</td>\n",
       "      <td>4.000000</td>\n",
       "      <td>19.990000</td>\n",
       "      <td>19.990000</td>\n",
       "      <td>...</td>\n",
       "      <td>-0.059523</td>\n",
       "      <td>-0.060936</td>\n",
       "      <td>0.002212</td>\n",
       "      <td>-0.053917</td>\n",
       "      <td>-0.045434</td>\n",
       "      <td>-0.049311</td>\n",
       "      <td>0.033365</td>\n",
       "      <td>-0.020522</td>\n",
       "      <td>-0.054988</td>\n",
       "      <td>-0.027926</td>\n",
       "    </tr>\n",
       "    <tr>\n",
       "      <th>50%</th>\n",
       "      <td>34.990000</td>\n",
       "      <td>4.500000</td>\n",
       "      <td>21.000000</td>\n",
       "      <td>1.000000</td>\n",
       "      <td>1.000000</td>\n",
       "      <td>1.000000</td>\n",
       "      <td>3.000000</td>\n",
       "      <td>13.000000</td>\n",
       "      <td>34.990000</td>\n",
       "      <td>34.990000</td>\n",
       "      <td>...</td>\n",
       "      <td>-0.050822</td>\n",
       "      <td>-0.052538</td>\n",
       "      <td>0.033737</td>\n",
       "      <td>-0.047663</td>\n",
       "      <td>-0.019029</td>\n",
       "      <td>-0.029115</td>\n",
       "      <td>0.051447</td>\n",
       "      <td>0.009779</td>\n",
       "      <td>-0.048592</td>\n",
       "      <td>0.006425</td>\n",
       "    </tr>\n",
       "    <tr>\n",
       "      <th>75%</th>\n",
       "      <td>59.990000</td>\n",
       "      <td>4.700000</td>\n",
       "      <td>70.000000</td>\n",
       "      <td>3.000000</td>\n",
       "      <td>2.000000</td>\n",
       "      <td>4.000000</td>\n",
       "      <td>13.000000</td>\n",
       "      <td>45.000000</td>\n",
       "      <td>54.990000</td>\n",
       "      <td>52.990000</td>\n",
       "      <td>...</td>\n",
       "      <td>-0.031546</td>\n",
       "      <td>-0.004319</td>\n",
       "      <td>0.049562</td>\n",
       "      <td>-0.015708</td>\n",
       "      <td>0.017270</td>\n",
       "      <td>0.002799</td>\n",
       "      <td>0.058931</td>\n",
       "      <td>0.034680</td>\n",
       "      <td>-0.027182</td>\n",
       "      <td>0.036583</td>\n",
       "    </tr>\n",
       "    <tr>\n",
       "      <th>max</th>\n",
       "      <td>5999.900000</td>\n",
       "      <td>5.000000</td>\n",
       "      <td>7302.000000</td>\n",
       "      <td>87.000000</td>\n",
       "      <td>107.000000</td>\n",
       "      <td>488.000000</td>\n",
       "      <td>1349.000000</td>\n",
       "      <td>5290.000000</td>\n",
       "      <td>99.990000</td>\n",
       "      <td>99.990000</td>\n",
       "      <td>...</td>\n",
       "      <td>0.066335</td>\n",
       "      <td>0.085888</td>\n",
       "      <td>0.108483</td>\n",
       "      <td>0.084785</td>\n",
       "      <td>0.090100</td>\n",
       "      <td>0.090315</td>\n",
       "      <td>0.097594</td>\n",
       "      <td>0.086715</td>\n",
       "      <td>0.093664</td>\n",
       "      <td>0.080232</td>\n",
       "    </tr>\n",
       "  </tbody>\n",
       "</table>\n",
       "<p>8 rows × 534 columns</p>\n",
       "</div>"
      ],
      "text/plain": [
       "       Price_per_unit       Rating  Rating_count  1 star count  2 star count  \\\n",
       "count     1697.000000  1690.000000   1697.000000   1697.000000   1697.000000   \n",
       "mean        70.780943     4.391302    139.015321      3.345315      2.794343   \n",
       "std        297.370246     0.548631    558.294245      8.369829      8.456926   \n",
       "min          0.790000     1.000000      0.000000      0.000000      0.000000   \n",
       "25%         19.490000     4.100000      6.000000      0.000000      0.000000   \n",
       "50%         34.990000     4.500000     21.000000      1.000000      1.000000   \n",
       "75%         59.990000     4.700000     70.000000      3.000000      2.000000   \n",
       "max       5999.900000     5.000000   7302.000000     87.000000    107.000000   \n",
       "\n",
       "       3 star count  4 star count  5 star count  Similar_product_price_1  \\\n",
       "count   1697.000000   1697.000000   1697.000000              1528.000000   \n",
       "mean       8.050678     25.047142     99.777843                41.846950   \n",
       "std       35.454792    100.402493    411.746577                24.108234   \n",
       "min        0.000000      0.000000      0.000000                 9.990000   \n",
       "25%        0.000000      1.000000      4.000000                19.990000   \n",
       "50%        1.000000      3.000000     13.000000                34.990000   \n",
       "75%        4.000000     13.000000     45.000000                54.990000   \n",
       "max      488.000000   1349.000000   5290.000000                99.990000   \n",
       "\n",
       "       Similar_product_price_2  ...          502          503          504  \\\n",
       "count              1282.000000  ...  1467.000000  1467.000000  1467.000000   \n",
       "mean                 40.772356  ...    -0.041860    -0.033492     0.025333   \n",
       "std                  23.355653  ...     0.029133     0.042110     0.033357   \n",
       "min                   9.990000  ...    -0.103517    -0.152394    -0.077306   \n",
       "25%                  19.990000  ...    -0.059523    -0.060936     0.002212   \n",
       "50%                  34.990000  ...    -0.050822    -0.052538     0.033737   \n",
       "75%                  52.990000  ...    -0.031546    -0.004319     0.049562   \n",
       "max                  99.990000  ...     0.066335     0.085888     0.108483   \n",
       "\n",
       "               505          506          507          508          509  \\\n",
       "count  1467.000000  1467.000000  1467.000000  1467.000000  1467.000000   \n",
       "mean     -0.032011    -0.012568    -0.019610     0.041837     0.005905   \n",
       "std       0.033889     0.038031     0.036165     0.028316     0.033510   \n",
       "min      -0.084358    -0.092454    -0.083429    -0.087034    -0.078539   \n",
       "25%      -0.053917    -0.045434    -0.049311     0.033365    -0.020522   \n",
       "50%      -0.047663    -0.019029    -0.029115     0.051447     0.009779   \n",
       "75%      -0.015708     0.017270     0.002799     0.058931     0.034680   \n",
       "max       0.084785     0.090100     0.090315     0.097594     0.086715   \n",
       "\n",
       "               510          511  \n",
       "count  1467.000000  1467.000000  \n",
       "mean     -0.036827     0.003254  \n",
       "std       0.028849     0.038407  \n",
       "min      -0.085021    -0.101154  \n",
       "25%      -0.054988    -0.027926  \n",
       "50%      -0.048592     0.006425  \n",
       "75%      -0.027182     0.036583  \n",
       "max       0.093664     0.080232  \n",
       "\n",
       "[8 rows x 534 columns]"
      ]
     },
     "execution_count": 21,
     "metadata": {},
     "output_type": "execute_result"
    }
   ],
   "source": [
    "df.describe()"
   ]
  },
  {
   "cell_type": "code",
   "execution_count": 22,
   "id": "5d06ca7a",
   "metadata": {},
   "outputs": [
    {
     "data": {
      "text/plain": [
       "Product name        0\n",
       "Price_per_unit      0\n",
       "Rating              7\n",
       "Rating_count        0\n",
       "1 star count        0\n",
       "                 ... \n",
       "507               230\n",
       "508               230\n",
       "509               230\n",
       "510               230\n",
       "511               230\n",
       "Length: 546, dtype: int64"
      ]
     },
     "execution_count": 22,
     "metadata": {},
     "output_type": "execute_result"
    }
   ],
   "source": [
    "df.isnull().sum()"
   ]
  },
  {
   "cell_type": "code",
   "execution_count": 25,
   "id": "96ce7d5b",
   "metadata": {},
   "outputs": [
    {
     "name": "stdout",
     "output_type": "stream",
     "text": [
      "<class 'pandas.core.frame.DataFrame'>\n",
      "Int64Index: 1697 entries, 0 to 1696\n",
      "Data columns (total 1 columns):\n",
      " #   Column                  Non-Null Count  Dtype  \n",
      "---  ------                  --------------  -----  \n",
      " 0   recommendation_percent  1191 non-null   float64\n",
      "dtypes: float64(1)\n",
      "memory usage: 91.1 KB\n"
     ]
    }
   ],
   "source": [
    "df[['recommendation_percent']].info()"
   ]
  },
  {
   "cell_type": "code",
   "execution_count": 26,
   "id": "0901c179",
   "metadata": {},
   "outputs": [],
   "source": [
    "df['avg_rating']=(df['5 star count']*5+df['4 star count']*4+df['3 star count']*3+df['2 star count']*2+df['1 star count']*1)/df['Rating_count']\n",
    "\n",
    "df['avg_rating']=round(df['avg_rating'],1)\n",
    "\n",
    "df['Rating'].fillna(df['avg_rating'], inplace=True)\n",
    "\n",
    "df.drop(['avg_rating'], axis=1, inplace=True)\n",
    "\n",
    "df=df.drop(df[df['Rating_count']==0].index).reset_index(drop=True)"
   ]
  },
  {
   "cell_type": "code",
   "execution_count": 27,
   "id": "ee09404e",
   "metadata": {},
   "outputs": [],
   "source": [
    "df['1star_percent']=df['1 star count']/df['Rating_count']\n",
    "\n",
    "df['2star_percent']=df['2 star count']/df['Rating_count']\n",
    "df['3star_percent']=df['3 star count']/df['Rating_count']\n",
    "df['4star_percent']=df['4 star count']/df['Rating_count']\n",
    "df['5star_percent']=df['5 star count']/df['Rating_count']"
   ]
  },
  {
   "cell_type": "code",
   "execution_count": null,
   "id": "07360274",
   "metadata": {},
   "outputs": [],
   "source": []
  },
  {
   "cell_type": "code",
   "execution_count": 28,
   "id": "12abed44",
   "metadata": {},
   "outputs": [],
   "source": [
    "df.drop(['product recommendation'], axis=1, inplace=True)"
   ]
  },
  {
   "cell_type": "code",
   "execution_count": 29,
   "id": "82f6dd34",
   "metadata": {},
   "outputs": [],
   "source": [
    "for i in range(df.shape[0]):\n",
    "    try:\n",
    "        pros_list=list(json.loads(df.loc[i,'Pros'].replace(\"'\", \"\\\"\")).values())\n",
    "        pros_sum=0\n",
    "        for pros_count in pros_list:\n",
    "            pros_sum=pros_sum+int(pros_count[:-8])\n",
    "        df.loc[i,'pros_count']=pros_sum\n",
    "    except:\n",
    "        continue\n",
    "        \n",
    "df['pros_count']=df['pros_count'].astype(float)"
   ]
  },
  {
   "cell_type": "code",
   "execution_count": 30,
   "id": "f191ebbc",
   "metadata": {},
   "outputs": [],
   "source": [
    "for i in range(df.shape[0]):\n",
    "    try:\n",
    "        cons_list=list(json.loads(df.loc[i,'Cons'].replace(\"'\", \"\\\"\")).values())\n",
    "        cons_sum=0\n",
    "        for cons_count in cons_list:\n",
    "            cons_sum=cons_sum+int(cons_count[:-8])\n",
    "        df.loc[i,'cons_count']=cons_sum\n",
    "    except:\n",
    "        continue\n",
    "        \n",
    "df['cons_count']=df['cons_count'].astype(float)"
   ]
  },
  {
   "cell_type": "code",
   "execution_count": 31,
   "id": "7c9e89f8",
   "metadata": {},
   "outputs": [],
   "source": [
    "# df.drop(['Similar_product_1', 'Similar_product_price_1', 'Similar_product_2',\n",
    "#        'Similar_product_price_2', 'Similar_product_3',\n",
    "#        'Similar_product_price_3', 'Similar_product_4',\n",
    "#        'Similar_product_price_4', 'Similar_product_5',\n",
    "#        'Similar_product_price_5'], axis=1, inplace=True)"
   ]
  },
  {
   "cell_type": "code",
   "execution_count": 32,
   "id": "74a605ca",
   "metadata": {},
   "outputs": [],
   "source": [
    "bins = [ 0, 1, 2, 3, 4, 5 ]\n",
    "labels=['0-1 star','1-2 star','2-3 star','3-4 star', '4-5 star']\n",
    "df['rating_bin'] = pd.cut(df['Rating'] , bins=bins, labels=labels, include_lowest=True)"
   ]
  },
  {
   "cell_type": "code",
   "execution_count": 33,
   "id": "43e19024",
   "metadata": {},
   "outputs": [
    {
     "data": {
      "text/plain": [
       "4-5 star    1328\n",
       "3-4 star     304\n",
       "2-3 star      47\n",
       "1-2 star       8\n",
       "0-1 star       7\n",
       "Name: rating_bin, dtype: int64"
      ]
     },
     "execution_count": 33,
     "metadata": {},
     "output_type": "execute_result"
    }
   ],
   "source": [
    "df['rating_bin'].value_counts()"
   ]
  },
  {
   "cell_type": "code",
   "execution_count": 34,
   "id": "07d99291",
   "metadata": {},
   "outputs": [],
   "source": [
    "bins = np.linspace(df['Price_per_unit'].min(),df['Price_per_unit'].max(),4)\n",
    "labels=[\"Low price ($0.79-$22.99) USD\",\"Medium price ($23.19-$49.99) USD\", \"High price ($50.99-$5999.90) USD\"]\n",
    "df['Price_category'] = pd.qcut(df['Price_per_unit'], q=3, precision=1, labels=labels)"
   ]
  },
  {
   "cell_type": "code",
   "execution_count": 35,
   "id": "cb3f9485",
   "metadata": {},
   "outputs": [
    {
     "data": {
      "text/plain": [
       "Index(['Product name', 'Price_per_unit', 'Rating', 'Rating_count',\n",
       "       '1 star count', '2 star count', '3 star count', '4 star count',\n",
       "       '5 star count', 'Similar_product_1',\n",
       "       ...\n",
       "       '511', '1star_percent', '2star_percent', '3star_percent',\n",
       "       '4star_percent', '5star_percent', 'pros_count', 'cons_count',\n",
       "       'rating_bin', 'Price_category'],\n",
       "      dtype='object', length=554)"
      ]
     },
     "execution_count": 35,
     "metadata": {},
     "output_type": "execute_result"
    }
   ],
   "source": [
    "df.columns"
   ]
  },
  {
   "cell_type": "code",
   "execution_count": 25,
   "id": "b8309db9",
   "metadata": {},
   "outputs": [],
   "source": [
    "for i in list(df.dropna(subset=['Pros']).index):\n",
    "    pros_list=list(json.loads(df.loc[i,'Pros'].replace(\"'\", \"\\\"\")).keys())\n",
    "    df.loc[i,'Pros1']=pros_list[0]"
   ]
  },
  {
   "cell_type": "code",
   "execution_count": 26,
   "id": "a887d149",
   "metadata": {},
   "outputs": [],
   "source": [
    "for i in list(df.dropna(subset=['Cons']).index):\n",
    "    cons_list=list(json.loads(df.loc[i,'Cons'].replace(\"'\", \"\\\"\")).keys())\n",
    "    df.loc[i,'Cons1']=cons_list[0]"
   ]
  },
  {
   "cell_type": "code",
   "execution_count": 27,
   "id": "86cabd37",
   "metadata": {},
   "outputs": [],
   "source": [
    "df.to_csv('Modelling_data.csv', index=False)"
   ]
  },
  {
   "cell_type": "code",
   "execution_count": 28,
   "id": "708fa809",
   "metadata": {},
   "outputs": [
    {
     "data": {
      "text/plain": [
       "(1694, 556)"
      ]
     },
     "execution_count": 28,
     "metadata": {},
     "output_type": "execute_result"
    }
   ],
   "source": [
    "df.shape"
   ]
  },
  {
   "cell_type": "code",
   "execution_count": 29,
   "id": "c744993e",
   "metadata": {},
   "outputs": [
    {
     "name": "stderr",
     "output_type": "stream",
     "text": [
      "<ipython-input-29-99bcfdcda737>:1: FutureWarning: Dropping invalid columns in DataFrameGroupBy.min is deprecated. In a future version, a TypeError will be raised. Before calling .min, select only columns which should be valid for the function.\n",
      "  df.groupby('Price_category').min()['Price_per_unit']\n"
     ]
    },
    {
     "data": {
      "text/plain": [
       "Price_category\n",
       "Low price ($0.79-$22.99) USD         0.79\n",
       "Medium price ($23.19-$49.99) USD    23.19\n",
       "High price ($50.99-$5999.90) USD    50.99\n",
       "Name: Price_per_unit, dtype: float64"
      ]
     },
     "execution_count": 29,
     "metadata": {},
     "output_type": "execute_result"
    }
   ],
   "source": [
    "df.groupby('Price_category').min()['Price_per_unit']"
   ]
  },
  {
   "cell_type": "code",
   "execution_count": 30,
   "id": "195a0e69",
   "metadata": {
    "scrolled": true
   },
   "outputs": [
    {
     "name": "stderr",
     "output_type": "stream",
     "text": [
      "<ipython-input-30-f64a19683a85>:1: FutureWarning: Dropping invalid columns in DataFrameGroupBy.max is deprecated. In a future version, a TypeError will be raised. Before calling .max, select only columns which should be valid for the function.\n",
      "  df.groupby('Price_category').max()['Price_per_unit']\n"
     ]
    },
    {
     "data": {
      "text/plain": [
       "Price_category\n",
       "Low price ($0.79-$22.99) USD          22.99\n",
       "Medium price ($23.19-$49.99) USD      49.99\n",
       "High price ($50.99-$5999.90) USD    5999.90\n",
       "Name: Price_per_unit, dtype: float64"
      ]
     },
     "execution_count": 30,
     "metadata": {},
     "output_type": "execute_result"
    }
   ],
   "source": [
    "df.groupby('Price_category').max()['Price_per_unit']"
   ]
  },
  {
   "cell_type": "code",
   "execution_count": 31,
   "id": "5db08fbc",
   "metadata": {},
   "outputs": [
    {
     "data": {
      "image/png": "[encoded data removed]",
      "text/plain": [
       "<Figure size 864x648 with 1 Axes>"
      ]
     },
     "metadata": {
      "needs_background": "light"
     },
     "output_type": "display_data"
    }
   ],
   "source": [
    "fig,ax =plt.subplots(figsize=(12,9))\n",
    "plt.xlim(0,300)\n",
    "plt.title('Density of products based on price per unit:')\n",
    "plt.xlabel('Price per unit (in USD)')\n",
    "plt.ylabel('Density')\n",
    "plt.xticks(np.arange(0, 320, 20))\n",
    "plt.axvline(x=22.99, ymin=0, ymax=0.945, color='r', ls='--', lw=1.5, label='axvline - % of full height')\n",
    "plt.text(10.1,0.002,'Low price',rotation=90)\n",
    "plt.axvline(x=49.99, ymin=0,  ymax=0.9445, color='g', ls='--', lw=1.5, label='axvline - % of full height')\n",
    "plt.text(34,0.002,'Medium price',rotation=90)\n",
    "plt.text(75,0.0023,'High price')\n",
    "sns.kdeplot(df['Price_per_unit'],shade=True)\n",
    "plt.show()"
   ]
  },
  {
   "cell_type": "code",
   "execution_count": 32,
   "id": "8d292eb5",
   "metadata": {},
   "outputs": [
    {
     "data": {
      "image/png": "[encoded data removed]",
      "text/plain": [
       "<Figure size 864x648 with 1 Axes>"
      ]
     },
     "metadata": {
      "needs_background": "light"
     },
     "output_type": "display_data"
    }
   ],
   "source": [
    "#b=pd.DataFrame(df[['BEER_SALES','WINE_SALES','SPIRITS_SALES','OTHERS_SALES']].sum(),columns=['Total sales'])\n",
    "fig,ax =plt.subplots(figsize=(12,9))\n",
    "sns.countplot(x=df['rating_bin'], hue=df['Price_category'])\n",
    "plt.title('Total number of products under each price category and rating bin:')\n",
    "plt.xlabel('Rating bins of the product')\n",
    "plt.ylabel('Number of products')\n",
    "\n",
    "li=[]\n",
    "for p in ax.patches:\n",
    "    li.append(p.get_height())\n",
    "li=np.array(li)\n",
    "li[np.isnan(li)] = 0\n",
    "    \n",
    "s=[]\n",
    "s.append(li[0]+li[5]+li[10])\n",
    "s.append(li[1]+li[6]+li[11])\n",
    "s.append(li[2]+li[7]+li[12])\n",
    "s.append(li[3]+li[8]+li[13])\n",
    "s.append(li[4]+li[9]+li[14])\n",
    "c=-1\n",
    "for p in ax.patches:\n",
    "    c=c+1\n",
    "    if(c==5):\n",
    "        c=0\n",
    "    ax.annotate('{:.01f}%'.format(p.get_height()/s[c]*100), (p.get_x()+0.04, p.get_height()+3), fontsize=8.5)\n",
    "    \n",
    "plt.legend( title='Price category', loc='upper left')\n",
    "plt.show()\n"
   ]
  },
  {
   "cell_type": "code",
   "execution_count": 33,
   "id": "cb977d9a",
   "metadata": {},
   "outputs": [
    {
     "data": {
      "image/png": "[encoded data removed]",
      "text/plain": [
       "<Figure size 648x648 with 1 Axes>"
      ]
     },
     "metadata": {
      "needs_background": "light"
     },
     "output_type": "display_data"
    }
   ],
   "source": [
    "fig,ax =plt.subplots(figsize=(9,9))\n",
    "sns.barplot(data = df, y='recommendation_percent',x='rating_bin', hue='Price_category' , ci=None)\n",
    "plt.title('Average recommendation percentage of the product users in each Price category and Rating bin:')\n",
    "plt.xlabel('Average Rating of the product')\n",
    "plt.ylabel('Recommendation percentage')\n",
    "\n",
    "for p in ax.patches:\n",
    "    ax.annotate('{:.00f}%'.format(p.get_height()), (p.get_x()+0.04, p.get_height()+0.8))\n",
    "\n",
    "\n",
    "plt.legend( title='Price category', loc='upper left')\n",
    "plt.show()\n"
   ]
  },
  {
   "cell_type": "code",
   "execution_count": 34,
   "id": "4c21308b",
   "metadata": {},
   "outputs": [
    {
     "data": {
      "image/png": "[encoded data removed]",
      "text/plain": [
       "<Figure size 648x648 with 1 Axes>"
      ]
     },
     "metadata": {
      "needs_background": "light"
     },
     "output_type": "display_data"
    }
   ],
   "source": [
    "# b=pd.DataFrame(df[['1 star count', '2 star count', '3 star count', '4 star count',\n",
    "#        '5 star count']].sum(),columns=['Total sales'])\n",
    "fig,ax =plt.subplots(figsize=(9,9))\n",
    "g=sns.countplot(data = df, x='Price_category', orient='h')\n",
    "plt.title('Number of products for different price category:')\n",
    "plt.xlabel('Price category')\n",
    "plt.ylabel('Total count of product ratings')\n",
    "#g.set_xticklabels(['1 star', '2 star', '3 star', '4 star', '5 star'])\n",
    "for p in ax.patches:\n",
    "    ax.annotate('{:.02f}%'.format(p.get_height()/df.shape[0]*100), (p.get_x()+0.33, p.get_height()+5))\n",
    "\n",
    "#plt.xticks(rotate=45)\n",
    "plt.xticks(rotation=5)\n",
    "plt.show()\n"
   ]
  },
  {
   "cell_type": "code",
   "execution_count": 35,
   "id": "e4d4e5cd",
   "metadata": {},
   "outputs": [],
   "source": [
    "#df.drop(['1 star count','2 star count','3 star count','4 star count','5 star count'], axis=1, inplace=True)"
   ]
  },
  {
   "cell_type": "markdown",
   "id": "9cdb0554",
   "metadata": {},
   "source": [
    "### Sentiment analysis"
   ]
  },
  {
   "cell_type": "code",
   "execution_count": 36,
   "id": "4db52ca3",
   "metadata": {},
   "outputs": [
    {
     "data": {
      "text/plain": [
       "0       McFarlane'S Reserve Kentucky Straight Bourbon ...\n",
       "1                          Jim Beam Bourbon Whiskey 1.75l\n",
       "2                Skatterbrain Peanut Butter Whiskey 750ml\n",
       "3                         Johnnie Walker Blue Label 750ml\n",
       "4                                   Bulleit Bourbon 1.75l\n",
       "                              ...                        \n",
       "1689                     Johnnie Walker 18 Year Old 750ml\n",
       "1690                    Glenlivet Founder'S Reserve 750ml\n",
       "1691                 Russell'S Reserve 10yr Bourbon 750ml\n",
       "1692                              Glenlivet 14 Year 750ml\n",
       "1693                               Ardbeg Uigeadail 750ml\n",
       "Name: Product name, Length: 1694, dtype: object"
      ]
     },
     "execution_count": 36,
     "metadata": {},
     "output_type": "execute_result"
    }
   ],
   "source": [
    "df['Product name']"
   ]
  },
  {
   "cell_type": "code",
   "execution_count": 37,
   "id": "f913e043",
   "metadata": {},
   "outputs": [],
   "source": [
    "df.drop(872, inplace=True)"
   ]
  },
  {
   "cell_type": "code",
   "execution_count": 39,
   "id": "c1465631",
   "metadata": {},
   "outputs": [
    {
     "data": {
      "text/html": [
       "<div>\n",
       "<style scoped>\n",
       "    .dataframe tbody tr th:only-of-type {\n",
       "        vertical-align: middle;\n",
       "    }\n",
       "\n",
       "    .dataframe tbody tr th {\n",
       "        vertical-align: top;\n",
       "    }\n",
       "\n",
       "    .dataframe thead th {\n",
       "        text-align: right;\n",
       "    }\n",
       "</style>\n",
       "<table border=\"1\" class=\"dataframe\">\n",
       "  <thead>\n",
       "    <tr style=\"text-align: right;\">\n",
       "      <th></th>\n",
       "      <th>Product name</th>\n",
       "      <th>Final_sentiment</th>\n",
       "      <th>recommendation_percent</th>\n",
       "      <th>Price_per_unit</th>\n",
       "    </tr>\n",
       "  </thead>\n",
       "  <tbody>\n",
       "    <tr>\n",
       "      <th>636</th>\n",
       "      <td>Dimensions Laphroaig 21yr 750ml</td>\n",
       "      <td>0.186310</td>\n",
       "      <td>100.0</td>\n",
       "      <td>799.90</td>\n",
       "    </tr>\n",
       "    <tr>\n",
       "      <th>937</th>\n",
       "      <td>Wilderness Trail Black Label Small Batch Bourb...</td>\n",
       "      <td>0.062008</td>\n",
       "      <td>100.0</td>\n",
       "      <td>39.99</td>\n",
       "    </tr>\n",
       "  </tbody>\n",
       "</table>\n",
       "</div>"
      ],
      "text/plain": [
       "                                          Product name  Final_sentiment  \\\n",
       "636                    Dimensions Laphroaig 21yr 750ml         0.186310   \n",
       "937  Wilderness Trail Black Label Small Batch Bourb...         0.062008   \n",
       "\n",
       "     recommendation_percent  Price_per_unit  \n",
       "636                   100.0          799.90  \n",
       "937                   100.0           39.99  "
      ]
     },
     "execution_count": 39,
     "metadata": {},
     "output_type": "execute_result"
    }
   ],
   "source": [
    "df[(df['recommendation_percent']==100) & (df['Final_sentiment']<=0.2) ][['Product name','Final_sentiment','recommendation_percent', 'Price_per_unit']]\n",
    "\n"
   ]
  },
  {
   "cell_type": "code",
   "execution_count": 85,
   "id": "b927c1be",
   "metadata": {},
   "outputs": [
    {
     "data": {
      "text/plain": [
       "Text(0.5, 0, 'Final sentiment score')"
      ]
     },
     "execution_count": 85,
     "metadata": {},
     "output_type": "execute_result"
    },
    {
     "data": {
      "image/png": "[encoded data removed]",
      "text/plain": [
       "<Figure size 648x648 with 1 Axes>"
      ]
     },
     "metadata": {
      "needs_background": "light"
     },
     "output_type": "display_data"
    }
   ],
   "source": [
    "df['outlier'] = np.where((df['recommendation_percent']==100) & (df['Final_sentiment']<0.2), 'yes', 'no')\n",
    "fig,ax =plt.subplots(figsize=(9,9))\n",
    "sns.scatterplot(x = 'Final_sentiment', y = 'recommendation_percent', data = df, hue=\"outlier\")\n",
    "plt.title('Sentiment score vs Recommendation percent:')\n",
    "plt.ylabel('Recommendation percent')\n",
    "plt.xlabel('Final sentiment score')"
   ]
  },
  {
   "cell_type": "code",
   "execution_count": 86,
   "id": "3081f7ea",
   "metadata": {},
   "outputs": [],
   "source": [
    "# sns.relplot(x=\"Final_sentiment\", y=\"recommendation_percent\", data=df);\n",
    "# plt.title('Sentiment score vs Recommendation percent:')\n",
    "# plt.ylabel('Recommendation percent')\n",
    "# plt.xlabel('Final sentiment score')\n",
    "# plt.text(-0.275000,100,'This text starts at point (2,4)')"
   ]
  },
  {
   "cell_type": "markdown",
   "id": "0b1ff823",
   "metadata": {},
   "source": [
    "#### Positive sentiment:"
   ]
  },
  {
   "cell_type": "code",
   "execution_count": 34,
   "id": "89e23d33",
   "metadata": {},
   "outputs": [
    {
     "data": {
      "image/png": "[encoded data removed]",
      "text/plain": [
       "<Figure size 864x648 with 1 Axes>"
      ]
     },
     "metadata": {
      "needs_background": "light"
     },
     "output_type": "display_data"
    }
   ],
   "source": [
    "\n",
    "#b=pd.DataFrame(df[['BEER_SALES','WINE_SALES','SPIRITS_SALES','OTHERS_SALES']].sum(),columns=['Total sales'])\n",
    "fig,ax =plt.subplots(figsize=(12,9))\n",
    "sns.countplot(x=df[df['Final_sentiment']>0].dropna(subset=['Final_sentiment']).sort_values('Final_sentiment', ascending=False).head(10)['rating_bin'], hue=df[df['Final_sentiment']>0].dropna(subset=['Final_sentiment']).sort_values('Final_sentiment', ascending=False).head(10)['Price_category'])\n",
    "plt.title('Top 10 positive sentiment products under each price category and rating bin:')\n",
    "plt.xlabel('Rating bins of the product')\n",
    "plt.ylabel('Number of products')\n",
    "\n",
    "li=[]\n",
    "for p in ax.patches:\n",
    "    li.append(p.get_height())\n",
    "li=np.array(li)\n",
    "li[np.isnan(li)] = 0\n",
    "    \n",
    "s=[]\n",
    "s.append(li[0]+li[5]+li[10])\n",
    "s.append(li[1]+li[6]+li[11])\n",
    "s.append(li[2]+li[7]+li[12])\n",
    "s.append(li[3]+li[8]+li[13])\n",
    "s.append(li[4]+li[9]+li[14])\n",
    "c=-1\n",
    "for p in ax.patches:\n",
    "    c=c+1\n",
    "    if(c==5):\n",
    "        c=0\n",
    "    ax.annotate('{:.01f}%'.format(p.get_height()/s[c]*100), (p.get_x()+0.04, p.get_height()+0.02), fontsize=8.5)\n",
    "    \n",
    "plt.legend(loc='upper left')\n",
    "plt.show()\n"
   ]
  },
  {
   "cell_type": "code",
   "execution_count": 40,
   "id": "6982dacb",
   "metadata": {},
   "outputs": [],
   "source": [
    "# df['rec_flag']=df['recommendation_percent'].isnull()"
   ]
  },
  {
   "cell_type": "code",
   "execution_count": 41,
   "id": "559c22b0",
   "metadata": {},
   "outputs": [
    {
     "data": {
      "image/png": "[encoded data removed]",
      "text/plain": [
       "<Figure size 648x648 with 1 Axes>"
      ]
     },
     "metadata": {
      "needs_background": "light"
     },
     "output_type": "display_data"
    }
   ],
   "source": [
    "fig,ax =plt.subplots(figsize=(9,9))\n",
    "sns.barplot(data=t, y='recommendation_percent',x='rating_bin', hue='Price_category' , ci=None)\n",
    "plt.title('Average recommendation percentage of the product users in each Price category and Rating bin:')\n",
    "plt.xlabel('Average Rating of the product')\n",
    "plt.ylabel('Recommendation percentage')\n",
    "\n",
    "for p in ax.patches:\n",
    "    ax.annotate('{:.00f}%'.format(p.get_height()), (p.get_x()+0.04, p.get_height()+0.8))\n",
    "\n",
    "\n",
    "plt.show()\n"
   ]
  },
  {
   "cell_type": "code",
   "execution_count": 42,
   "id": "df14ea35",
   "metadata": {},
   "outputs": [
    {
     "data": {
      "image/png": "[encoded data removed]",
      "text/plain": [
       "<Figure size 648x648 with 1 Axes>"
      ]
     },
     "metadata": {
      "needs_background": "light"
     },
     "output_type": "display_data"
    }
   ],
   "source": [
    "a=df[df['Review count']>35].sort_values('Final_sentiment', ascending=False).head(10)[['Product name','Price_per_unit']]\n",
    "fig,ax =plt.subplots(figsize=(9,9))\n",
    "g=sns.barplot(data = a, x='Price_per_unit',y='Product name',orient='h')\n",
    "plt.title('Top 10 positive sentiment products:')\n",
    "plt.xlabel('Price per unit (in $)')\n",
    "plt.ylabel('Products')\n",
    "\n",
    "\n",
    "\n",
    "plt.show()\n"
   ]
  },
  {
   "cell_type": "code",
   "execution_count": 43,
   "id": "a7bd02d8",
   "metadata": {},
   "outputs": [
    {
     "data": {
      "image/png": "[encoded data removed]",
      "text/plain": [
       "<Figure size 648x648 with 1 Axes>"
      ]
     },
     "metadata": {
      "needs_background": "light"
     },
     "output_type": "display_data"
    }
   ],
   "source": [
    "a=df[df['Review count']>35].sort_values('Final_sentiment', ascending=False).head(10)[['Product name','Rating']]\n",
    "fig,ax =plt.subplots(figsize=(9,9))\n",
    "g=sns.barplot(data = a, x='Rating',y='Product name',orient='h')\n",
    "plt.title('Top 10 positive sentiment products:')\n",
    "plt.xlabel('Rating')\n",
    "plt.ylabel('Products')\n",
    "\n",
    "\n",
    "\n",
    "plt.show()\n"
   ]
  },
  {
   "cell_type": "markdown",
   "id": "79c8dbec",
   "metadata": {},
   "source": [
    "#### Negative sentiment:"
   ]
  },
  {
   "cell_type": "code",
   "execution_count": 44,
   "id": "1f1247cf",
   "metadata": {},
   "outputs": [
    {
     "data": {
      "image/png": "[encoded data removed]",
      "text/plain": [
       "<Figure size 864x648 with 1 Axes>"
      ]
     },
     "metadata": {
      "needs_background": "light"
     },
     "output_type": "display_data"
    }
   ],
   "source": [
    "\n",
    "#b=pd.DataFrame(df[['BEER_SALES','WINE_SALES','SPIRITS_SALES','OTHERS_SALES']].sum(),columns=['Total sales'])\n",
    "fig,ax =plt.subplots(figsize=(12,9))\n",
    "sns.countplot(x=df[df['Final_sentiment']<0].dropna(subset=['Final_sentiment'])['rating_bin'], hue=df[df['Final_sentiment']<0].dropna(subset=['Final_sentiment'])['Price_category'])\n",
    "plt.title('Top 10 negative sentiment products under each price category and rating bin:')\n",
    "plt.xlabel('Rating bins of the product')\n",
    "plt.ylabel('Number of products')\n",
    "\n",
    "li=[]\n",
    "for p in ax.patches:\n",
    "    li.append(p.get_height())\n",
    "li=np.array(li)\n",
    "li[np.isnan(li)] = 0\n",
    "    \n",
    "s=[]\n",
    "s.append(li[0]+li[5]+li[10])\n",
    "s.append(li[1]+li[6]+li[11])\n",
    "s.append(li[2]+li[7]+li[12])\n",
    "s.append(li[3]+li[8]+li[13])\n",
    "s.append(li[4]+li[9]+li[14])\n",
    "c=-1\n",
    "for p in ax.patches:\n",
    "    c=c+1\n",
    "    if(c==5):\n",
    "        c=0\n",
    "    ax.annotate('{:.01f}%'.format(p.get_height()/s[c]*100), (p.get_x()+0.04, p.get_height()+0.01), fontsize=8.5)\n",
    "    \n",
    "\n",
    "plt.show()\n"
   ]
  },
  {
   "cell_type": "code",
   "execution_count": 45,
   "id": "22d6c79d",
   "metadata": {},
   "outputs": [
    {
     "data": {
      "image/png": "[encoded data removed]",
      "text/plain": [
       "<Figure size 648x648 with 1 Axes>"
      ]
     },
     "metadata": {
      "needs_background": "light"
     },
     "output_type": "display_data"
    }
   ],
   "source": [
    "fig,ax =plt.subplots(figsize=(9,9))\n",
    "sns.barplot(data=df[df['Final_sentiment']<0].dropna(subset=['Final_sentiment']), y='recommendation_percent',x='rating_bin', hue='Price_category' , ci=None)\n",
    "plt.title('Average recommendation percentage of the negative sentiment products in each Price category and Rating bin:')\n",
    "plt.xlabel('Average Rating of the product')\n",
    "plt.ylabel('Recommendation percentage')\n",
    "\n",
    "for p in ax.patches:\n",
    "    ax.annotate('{:.00f}%'.format(p.get_height()), (p.get_x()+0.04, p.get_height()+0.8))\n",
    "\n",
    "\n",
    "plt.show()\n"
   ]
  },
  {
   "cell_type": "code",
   "execution_count": 46,
   "id": "5bb6c7c1",
   "metadata": {},
   "outputs": [
    {
     "data": {
      "image/png": "[encoded data removed]",
      "text/plain": [
       "<Figure size 648x648 with 1 Axes>"
      ]
     },
     "metadata": {
      "needs_background": "light"
     },
     "output_type": "display_data"
    }
   ],
   "source": [
    "a=df[df['Final_sentiment']<0].sort_values('Final_sentiment').head(10)[['Product name','Price_per_unit']]\n",
    "fig,ax =plt.subplots(figsize=(9,9))\n",
    "g=sns.barplot(data = a, x='Price_per_unit',y='Product name',orient='h')\n",
    "plt.title('Top 10 negative sentiment products:')\n",
    "plt.xlabel('Price per unit (in $)')\n",
    "plt.ylabel('Products')\n",
    "\n",
    "\n",
    "\n",
    "plt.show()\n"
   ]
  },
  {
   "cell_type": "code",
   "execution_count": 47,
   "id": "691bed56",
   "metadata": {},
   "outputs": [
    {
     "data": {
      "image/png": "[encoded data removed]",
      "text/plain": [
       "<Figure size 648x648 with 1 Axes>"
      ]
     },
     "metadata": {
      "needs_background": "light"
     },
     "output_type": "display_data"
    }
   ],
   "source": [
    "a=df[df['Final_sentiment']<0].sort_values('Final_sentiment').head(10)[['Product name','Rating']]\n",
    "fig,ax =plt.subplots(figsize=(9,9))\n",
    "g=sns.barplot(data = a, x='Rating',y='Product name',orient='h')\n",
    "plt.title('Top 10 negative sentiment products:')\n",
    "plt.xlabel('Rating')\n",
    "plt.ylabel('Products')\n",
    "\n",
    "\n",
    "\n",
    "plt.show()\n"
   ]
  },
  {
   "cell_type": "markdown",
   "id": "a7b053e5",
   "metadata": {},
   "source": [
    "## PROS Analysis"
   ]
  },
  {
   "cell_type": "code",
   "execution_count": 48,
   "id": "3c48754d",
   "metadata": {},
   "outputs": [],
   "source": [
    "df_pros=df.dropna(subset=['Pros']).reset_index(drop=True)"
   ]
  },
  {
   "cell_type": "code",
   "execution_count": 49,
   "id": "36d6f86a",
   "metadata": {},
   "outputs": [
    {
     "data": {
      "text/plain": [
       "0       {'price': '29 reviews', 'value': '16 reviews',...\n",
       "1       {'satisfaction': '48 reviews', 'price': '42 re...\n",
       "2       {'satisfaction': '93 reviews', 'price': '27 re...\n",
       "3                           {'satisfaction': '2 reviews'}\n",
       "4       {'price': '48 reviews', 'satisfaction': '35 re...\n",
       "                              ...                        \n",
       "1188    {'satisfaction': '5 reviews', 'price': '2 revi...\n",
       "1189    {'price': '30 reviews', 'satisfaction': '24 re...\n",
       "1190     {'price': '6 reviews', 'enjoyment': '4 reviews'}\n",
       "1191                        {'satisfaction': '2 reviews'}\n",
       "1192    {'satisfaction': '16 reviews', 'appearance': '...\n",
       "Name: Pros, Length: 1193, dtype: object"
      ]
     },
     "execution_count": 49,
     "metadata": {},
     "output_type": "execute_result"
    }
   ],
   "source": [
    "df_pros['Pros']"
   ]
  },
  {
   "cell_type": "code",
   "execution_count": 50,
   "id": "9880f9cc",
   "metadata": {},
   "outputs": [],
   "source": [
    "for i in range(df_pros.shape[0]):\n",
    "    pros_list=list(json.loads(df_pros.loc[i,'Pros'].replace(\"'\", \"\\\"\")).keys())\n",
    "    df_pros.loc[i,'Pros1']=pros_list[0]\n",
    "    try:\n",
    "        df_pros.loc[i,'Pros2']=pros_list[1]\n",
    "    except:\n",
    "        df_pros.loc[i,'Pros2']=np.nan\n",
    "    try:\n",
    "        df_pros.loc[i,'Pros3']=pros_list[2]\n",
    "    except:\n",
    "        df_pros.loc[i,'Pros3']=np.nan\n",
    "        "
   ]
  },
  {
   "cell_type": "code",
   "execution_count": 51,
   "id": "50cdbc6d",
   "metadata": {},
   "outputs": [
    {
     "data": {
      "text/plain": [
       "Product name         0\n",
       "Price_per_unit       0\n",
       "Rating               0\n",
       "Rating_count         0\n",
       "1 star count         0\n",
       "                  ... \n",
       "Price_category       0\n",
       "Pros1                0\n",
       "Cons1             1137\n",
       "Pros2              285\n",
       "Pros3              784\n",
       "Length: 548, dtype: int64"
      ]
     },
     "execution_count": 51,
     "metadata": {},
     "output_type": "execute_result"
    }
   ],
   "source": [
    "df_pros.isnull().sum()"
   ]
  },
  {
   "cell_type": "code",
   "execution_count": 52,
   "id": "a6830df7",
   "metadata": {},
   "outputs": [
    {
     "data": {
      "text/plain": [
       "1193"
      ]
     },
     "execution_count": 52,
     "metadata": {},
     "output_type": "execute_result"
    }
   ],
   "source": [
    "df['Pros'].notnull().sum()"
   ]
  },
  {
   "cell_type": "code",
   "execution_count": 53,
   "id": "90be4ba3",
   "metadata": {},
   "outputs": [
    {
     "data": {
      "image/png": "[encoded data removed]",
      "text/plain": [
       "<Figure size 648x648 with 1 Axes>"
      ]
     },
     "metadata": {
      "needs_background": "light"
     },
     "output_type": "display_data"
    }
   ],
   "source": [
    "a=pd.DataFrame(df_pros['Pros1'].value_counts()).head(5)\n",
    "fig,ax =plt.subplots(figsize=(9,9))\n",
    "g=sns.barplot(data = a, x='Pros1',y=a.index,orient='h')\n",
    "plt.title('Top pros of the products:')\n",
    "plt.xlabel('Number of products')\n",
    "plt.ylabel('Pros keywords')\n",
    "\n",
    "\n",
    "\n",
    "plt.show()\n"
   ]
  },
  {
   "cell_type": "markdown",
   "id": "acfead22",
   "metadata": {},
   "source": [
    "### Despite pro being \"Price\", price of some whiskey are very high: Rating dist"
   ]
  },
  {
   "cell_type": "code",
   "execution_count": 54,
   "id": "7f41f1aa",
   "metadata": {},
   "outputs": [
    {
     "data": {
      "text/plain": [
       "count    445.000000\n",
       "mean      33.558899\n",
       "std       34.027405\n",
       "min        0.790000\n",
       "25%       16.990000\n",
       "50%       25.490000\n",
       "75%       39.990000\n",
       "max      349.990000\n",
       "Name: Price_per_unit, dtype: float64"
      ]
     },
     "execution_count": 54,
     "metadata": {},
     "output_type": "execute_result"
    }
   ],
   "source": [
    "df_pros[df_pros['Pros1']=='price'].describe()['Price_per_unit']"
   ]
  },
  {
   "cell_type": "code",
   "execution_count": 55,
   "id": "75de5316",
   "metadata": {},
   "outputs": [
    {
     "data": {
      "image/png": "[encoded data removed]",
      "text/plain": [
       "<Figure size 648x648 with 1 Axes>"
      ]
     },
     "metadata": {
      "needs_background": "light"
     },
     "output_type": "display_data"
    }
   ],
   "source": [
    "a=df_pros[(df_pros['Pros1']=='price') & (df_pros['Price_category']=='High price')].sort_values('Price_per_unit',ascending=False).head(10)[['Product name','Price_per_unit']]\n",
    "fig,ax =plt.subplots(figsize=(9,9))\n",
    "g=sns.barplot(data = a, x='Price_per_unit',y='Product name',orient='h')\n",
    "plt.title('Top priced products with \"Price\" as positive review:')\n",
    "plt.xlabel('Price per unit (in $)')\n",
    "plt.ylabel('Products')\n",
    "\n",
    "\n",
    "\n",
    "plt.show()\n"
   ]
  },
  {
   "cell_type": "code",
   "execution_count": 56,
   "id": "aa5e73b6",
   "metadata": {},
   "outputs": [
    {
     "data": {
      "image/png": "[encoded data removed]",
      "text/plain": [
       "<Figure size 648x648 with 1 Axes>"
      ]
     },
     "metadata": {
      "needs_background": "light"
     },
     "output_type": "display_data"
    }
   ],
   "source": [
    "c=df_pros[(df_pros['Pros1']=='price') & (df_pros['Price_category']=='High price')].sort_values('Price_per_unit',ascending=False).head(10)[['Product name','Rating']]\n",
    "\n",
    "fig,ax =plt.subplots(figsize=(9,9))\n",
    "g=sns.barplot(data = c, x='Rating',y='Product name',orient='h')\n",
    "plt.title('Top priced products with \"Price\" as positive review:')\n",
    "plt.xlabel('Rating')\n",
    "plt.ylabel('Products')\n",
    "\n",
    "\n",
    "\n",
    "plt.show()\n",
    "\n",
    "\n"
   ]
  },
  {
   "cell_type": "code",
   "execution_count": null,
   "id": "68040f1c",
   "metadata": {},
   "outputs": [],
   "source": []
  },
  {
   "cell_type": "code",
   "execution_count": null,
   "id": "800d68d8",
   "metadata": {},
   "outputs": [],
   "source": []
  },
  {
   "cell_type": "code",
   "execution_count": 57,
   "id": "b40d0ac4",
   "metadata": {},
   "outputs": [],
   "source": [
    "d = {'recommendation_percent':'recommendation_percent_avg', 'recommendation_count':'total_recommendation_count'}\n",
    "rec=df_pros.groupby('Pros1').agg({'recommendation_percent':'mean', 'recommendation_count':'sum'}).rename(columns=d)\n",
    "# rec['total_recommendation_per']=rec['total_recommendation_count']/rec['total_recommendation_count'].sum()\n",
    "# rec['Recommendation score']=rec['recommendation_percent_avg']*rec['total_recommendation_per']\n",
    "d=rec.sort_values(by=['recommendation_percent_avg'],ascending=False)\n",
    "d=d[d['total_recommendation_count']>50]\n",
    "d=d.drop('smoothness')"
   ]
  },
  {
   "cell_type": "code",
   "execution_count": 58,
   "id": "3e6ddc46",
   "metadata": {},
   "outputs": [
    {
     "data": {
      "text/html": [
       "<div>\n",
       "<style scoped>\n",
       "    .dataframe tbody tr th:only-of-type {\n",
       "        vertical-align: middle;\n",
       "    }\n",
       "\n",
       "    .dataframe tbody tr th {\n",
       "        vertical-align: top;\n",
       "    }\n",
       "\n",
       "    .dataframe thead th {\n",
       "        text-align: right;\n",
       "    }\n",
       "</style>\n",
       "<table border=\"1\" class=\"dataframe\">\n",
       "  <thead>\n",
       "    <tr style=\"text-align: right;\">\n",
       "      <th></th>\n",
       "      <th>recommendation_percent_avg</th>\n",
       "      <th>total_recommendation_count</th>\n",
       "    </tr>\n",
       "    <tr>\n",
       "      <th>Pros1</th>\n",
       "      <th></th>\n",
       "      <th></th>\n",
       "    </tr>\n",
       "  </thead>\n",
       "  <tbody>\n",
       "    <tr>\n",
       "      <th>comfort</th>\n",
       "      <td>95.000000</td>\n",
       "      <td>75.0</td>\n",
       "    </tr>\n",
       "    <tr>\n",
       "      <th>appearance</th>\n",
       "      <td>87.500000</td>\n",
       "      <td>51.0</td>\n",
       "    </tr>\n",
       "    <tr>\n",
       "      <th>enjoyment</th>\n",
       "      <td>86.428571</td>\n",
       "      <td>651.0</td>\n",
       "    </tr>\n",
       "    <tr>\n",
       "      <th>satisfaction</th>\n",
       "      <td>86.329502</td>\n",
       "      <td>22500.0</td>\n",
       "    </tr>\n",
       "    <tr>\n",
       "      <th>sweet</th>\n",
       "      <td>84.714286</td>\n",
       "      <td>56.0</td>\n",
       "    </tr>\n",
       "    <tr>\n",
       "      <th>price</th>\n",
       "      <td>83.766292</td>\n",
       "      <td>26283.0</td>\n",
       "    </tr>\n",
       "    <tr>\n",
       "      <th>smooth</th>\n",
       "      <td>83.206897</td>\n",
       "      <td>172.0</td>\n",
       "    </tr>\n",
       "    <tr>\n",
       "      <th>flavor</th>\n",
       "      <td>82.981818</td>\n",
       "      <td>357.0</td>\n",
       "    </tr>\n",
       "    <tr>\n",
       "      <th>taste</th>\n",
       "      <td>72.900000</td>\n",
       "      <td>52.0</td>\n",
       "    </tr>\n",
       "  </tbody>\n",
       "</table>\n",
       "</div>"
      ],
      "text/plain": [
       "              recommendation_percent_avg  total_recommendation_count\n",
       "Pros1                                                               \n",
       "comfort                        95.000000                        75.0\n",
       "appearance                     87.500000                        51.0\n",
       "enjoyment                      86.428571                       651.0\n",
       "satisfaction                   86.329502                     22500.0\n",
       "sweet                          84.714286                        56.0\n",
       "price                          83.766292                     26283.0\n",
       "smooth                         83.206897                       172.0\n",
       "flavor                         82.981818                       357.0\n",
       "taste                          72.900000                        52.0"
      ]
     },
     "execution_count": 58,
     "metadata": {},
     "output_type": "execute_result"
    }
   ],
   "source": [
    "d"
   ]
  },
  {
   "cell_type": "code",
   "execution_count": 60,
   "id": "6aca08f0",
   "metadata": {},
   "outputs": [
    {
     "data": {
      "image/png": "[encoded data removed]",
      "text/plain": [
       "<Figure size 648x648 with 1 Axes>"
      ]
     },
     "metadata": {
      "needs_background": "light"
     },
     "output_type": "display_data"
    }
   ],
   "source": [
    "fig,ax =plt.subplots(figsize=(9,9))\n",
    "g=sns.barplot(data = d, x='recommendation_percent_avg',y=d.index,orient='h')\n",
    "plt.title('Top positive review keywords based on recommendation percent:')\n",
    "plt.xlabel('Recommendation percentage')\n",
    "plt.ylabel('Positive reviews keywords')\n",
    "\n",
    "\n",
    "\n",
    "plt.show()\n",
    "\n",
    "\n"
   ]
  },
  {
   "cell_type": "markdown",
   "id": "bc96574a",
   "metadata": {},
   "source": [
    "### When pros was Value, then also avg_rating is 4.22 only and max_price is 39.99- Dist of rating (show avg on side)"
   ]
  },
  {
   "cell_type": "code",
   "execution_count": 61,
   "id": "a47b6d49",
   "metadata": {},
   "outputs": [],
   "source": [
    "valued=df_pros[(df_pros['Pros2']=='value')| (df_pros['Pros1']=='value') | (df_pros['Pros3']=='value')]"
   ]
  },
  {
   "cell_type": "code",
   "execution_count": 62,
   "id": "398ac65f",
   "metadata": {},
   "outputs": [
    {
     "data": {
      "image/png": "[encoded data removed]",
      "text/plain": [
       "<Figure size 864x648 with 1 Axes>"
      ]
     },
     "metadata": {
      "needs_background": "light"
     },
     "output_type": "display_data"
    }
   ],
   "source": [
    "# valued[valued['5star_percent']<0.4]\n",
    "#b=pd.DataFrame(df[['BEER_SALES','WINE_SALES','SPIRITS_SALES','OTHERS_SALES']].sum(),columns=['Total sales'])\n",
    "fig,ax =plt.subplots(figsize=(12,9))\n",
    "sns.countplot(x=valued['rating_bin'], hue=valued['Price_category'])\n",
    "plt.title('Total number of products under each price category and rating bin:')\n",
    "plt.xlabel('Rating bins of the product')\n",
    "plt.ylabel('Number of products')\n",
    "\n",
    "li=[]\n",
    "for p in ax.patches:\n",
    "    li.append(p.get_height())\n",
    "li=np.array(li)\n",
    "li[np.isnan(li)] = 0\n",
    "    \n",
    "s=[]\n",
    "s.append(li[0]+li[5]+li[10])\n",
    "s.append(li[1]+li[6]+li[11])\n",
    "s.append(li[2]+li[7]+li[12])\n",
    "s.append(li[3]+li[8]+li[13])\n",
    "s.append(li[4]+li[9]+li[14])\n",
    "c=-1\n",
    "for p in ax.patches:\n",
    "    c=c+1\n",
    "    if(c==5):\n",
    "        c=0\n",
    "    ax.annotate('{:.01f}%'.format(p.get_height()/s[c]*100), (p.get_x()+0.04, p.get_height()+1), fontsize=8.5)\n",
    "    \n",
    "plt.legend(loc='upper left')\n",
    "plt.show()\n"
   ]
  },
  {
   "cell_type": "code",
   "execution_count": 63,
   "id": "54d51f0f",
   "metadata": {},
   "outputs": [
    {
     "data": {
      "text/html": [
       "<div>\n",
       "<style scoped>\n",
       "    .dataframe tbody tr th:only-of-type {\n",
       "        vertical-align: middle;\n",
       "    }\n",
       "\n",
       "    .dataframe tbody tr th {\n",
       "        vertical-align: top;\n",
       "    }\n",
       "\n",
       "    .dataframe thead th {\n",
       "        text-align: right;\n",
       "    }\n",
       "</style>\n",
       "<table border=\"1\" class=\"dataframe\">\n",
       "  <thead>\n",
       "    <tr style=\"text-align: right;\">\n",
       "      <th></th>\n",
       "      <th>Price_per_unit</th>\n",
       "      <th>Rating</th>\n",
       "      <th>Rating_count</th>\n",
       "      <th>1 star count</th>\n",
       "      <th>2 star count</th>\n",
       "      <th>3 star count</th>\n",
       "      <th>4 star count</th>\n",
       "      <th>5 star count</th>\n",
       "      <th>recommendation_count</th>\n",
       "      <th>recommendation_percent</th>\n",
       "      <th>...</th>\n",
       "      <th>509</th>\n",
       "      <th>510</th>\n",
       "      <th>511</th>\n",
       "      <th>1star_percent</th>\n",
       "      <th>2star_percent</th>\n",
       "      <th>3star_percent</th>\n",
       "      <th>4star_percent</th>\n",
       "      <th>5star_percent</th>\n",
       "      <th>pros_count</th>\n",
       "      <th>cons_count</th>\n",
       "    </tr>\n",
       "  </thead>\n",
       "  <tbody>\n",
       "    <tr>\n",
       "      <th>count</th>\n",
       "      <td>187.000000</td>\n",
       "      <td>187.000000</td>\n",
       "      <td>187.000000</td>\n",
       "      <td>187.000000</td>\n",
       "      <td>187.000000</td>\n",
       "      <td>187.000000</td>\n",
       "      <td>187.000000</td>\n",
       "      <td>187.000000</td>\n",
       "      <td>187.000000</td>\n",
       "      <td>187.000000</td>\n",
       "      <td>...</td>\n",
       "      <td>170.000000</td>\n",
       "      <td>170.000000</td>\n",
       "      <td>170.000000</td>\n",
       "      <td>187.000000</td>\n",
       "      <td>187.000000</td>\n",
       "      <td>187.000000</td>\n",
       "      <td>187.000000</td>\n",
       "      <td>187.000000</td>\n",
       "      <td>187.000000</td>\n",
       "      <td>12.000000</td>\n",
       "    </tr>\n",
       "    <tr>\n",
       "      <th>mean</th>\n",
       "      <td>28.606631</td>\n",
       "      <td>4.232620</td>\n",
       "      <td>163.310160</td>\n",
       "      <td>6.331551</td>\n",
       "      <td>5.941176</td>\n",
       "      <td>12.540107</td>\n",
       "      <td>42.122995</td>\n",
       "      <td>96.374332</td>\n",
       "      <td>73.882353</td>\n",
       "      <td>83.550802</td>\n",
       "      <td>...</td>\n",
       "      <td>0.024968</td>\n",
       "      <td>-0.051319</td>\n",
       "      <td>0.017955</td>\n",
       "      <td>0.049765</td>\n",
       "      <td>0.040334</td>\n",
       "      <td>0.089316</td>\n",
       "      <td>0.266927</td>\n",
       "      <td>0.553658</td>\n",
       "      <td>47.989305</td>\n",
       "      <td>4.166667</td>\n",
       "    </tr>\n",
       "    <tr>\n",
       "      <th>std</th>\n",
       "      <td>33.722822</td>\n",
       "      <td>0.334977</td>\n",
       "      <td>234.373289</td>\n",
       "      <td>10.512012</td>\n",
       "      <td>9.168774</td>\n",
       "      <td>16.243187</td>\n",
       "      <td>55.406619</td>\n",
       "      <td>164.674717</td>\n",
       "      <td>84.275451</td>\n",
       "      <td>9.359679</td>\n",
       "      <td>...</td>\n",
       "      <td>0.029142</td>\n",
       "      <td>0.012665</td>\n",
       "      <td>0.033357</td>\n",
       "      <td>0.051107</td>\n",
       "      <td>0.033375</td>\n",
       "      <td>0.048979</td>\n",
       "      <td>0.096295</td>\n",
       "      <td>0.153034</td>\n",
       "      <td>43.044737</td>\n",
       "      <td>1.992410</td>\n",
       "    </tr>\n",
       "    <tr>\n",
       "      <th>min</th>\n",
       "      <td>0.790000</td>\n",
       "      <td>3.200000</td>\n",
       "      <td>1.000000</td>\n",
       "      <td>0.000000</td>\n",
       "      <td>0.000000</td>\n",
       "      <td>0.000000</td>\n",
       "      <td>0.000000</td>\n",
       "      <td>1.000000</td>\n",
       "      <td>1.000000</td>\n",
       "      <td>58.000000</td>\n",
       "      <td>...</td>\n",
       "      <td>-0.065163</td>\n",
       "      <td>-0.069405</td>\n",
       "      <td>-0.064085</td>\n",
       "      <td>0.000000</td>\n",
       "      <td>0.000000</td>\n",
       "      <td>0.000000</td>\n",
       "      <td>0.000000</td>\n",
       "      <td>0.285714</td>\n",
       "      <td>2.000000</td>\n",
       "      <td>3.000000</td>\n",
       "    </tr>\n",
       "    <tr>\n",
       "      <th>25%</th>\n",
       "      <td>13.990000</td>\n",
       "      <td>4.000000</td>\n",
       "      <td>42.500000</td>\n",
       "      <td>1.000000</td>\n",
       "      <td>1.000000</td>\n",
       "      <td>4.000000</td>\n",
       "      <td>11.000000</td>\n",
       "      <td>23.000000</td>\n",
       "      <td>24.000000</td>\n",
       "      <td>78.000000</td>\n",
       "      <td>...</td>\n",
       "      <td>0.008225</td>\n",
       "      <td>-0.056458</td>\n",
       "      <td>-0.006669</td>\n",
       "      <td>0.017467</td>\n",
       "      <td>0.012899</td>\n",
       "      <td>0.052517</td>\n",
       "      <td>0.207447</td>\n",
       "      <td>0.427069</td>\n",
       "      <td>16.500000</td>\n",
       "      <td>3.000000</td>\n",
       "    </tr>\n",
       "    <tr>\n",
       "      <th>50%</th>\n",
       "      <td>20.990000</td>\n",
       "      <td>4.300000</td>\n",
       "      <td>82.000000</td>\n",
       "      <td>3.000000</td>\n",
       "      <td>3.000000</td>\n",
       "      <td>8.000000</td>\n",
       "      <td>25.000000</td>\n",
       "      <td>42.000000</td>\n",
       "      <td>42.000000</td>\n",
       "      <td>86.000000</td>\n",
       "      <td>...</td>\n",
       "      <td>0.037453</td>\n",
       "      <td>-0.052565</td>\n",
       "      <td>0.030282</td>\n",
       "      <td>0.034965</td>\n",
       "      <td>0.035088</td>\n",
       "      <td>0.088235</td>\n",
       "      <td>0.255319</td>\n",
       "      <td>0.531469</td>\n",
       "      <td>34.000000</td>\n",
       "      <td>3.000000</td>\n",
       "    </tr>\n",
       "    <tr>\n",
       "      <th>75%</th>\n",
       "      <td>35.990000</td>\n",
       "      <td>4.500000</td>\n",
       "      <td>167.000000</td>\n",
       "      <td>8.000000</td>\n",
       "      <td>8.000000</td>\n",
       "      <td>15.000000</td>\n",
       "      <td>47.500000</td>\n",
       "      <td>95.500000</td>\n",
       "      <td>93.000000</td>\n",
       "      <td>90.500000</td>\n",
       "      <td>...</td>\n",
       "      <td>0.047613</td>\n",
       "      <td>-0.049460</td>\n",
       "      <td>0.046070</td>\n",
       "      <td>0.061538</td>\n",
       "      <td>0.060976</td>\n",
       "      <td>0.119406</td>\n",
       "      <td>0.326861</td>\n",
       "      <td>0.670611</td>\n",
       "      <td>65.500000</td>\n",
       "      <td>5.000000</td>\n",
       "    </tr>\n",
       "    <tr>\n",
       "      <th>max</th>\n",
       "      <td>349.990000</td>\n",
       "      <td>5.000000</td>\n",
       "      <td>1298.000000</td>\n",
       "      <td>73.000000</td>\n",
       "      <td>57.000000</td>\n",
       "      <td>94.000000</td>\n",
       "      <td>281.000000</td>\n",
       "      <td>943.000000</td>\n",
       "      <td>475.000000</td>\n",
       "      <td>100.000000</td>\n",
       "      <td>...</td>\n",
       "      <td>0.059613</td>\n",
       "      <td>0.039408</td>\n",
       "      <td>0.058448</td>\n",
       "      <td>0.262069</td>\n",
       "      <td>0.142857</td>\n",
       "      <td>0.272727</td>\n",
       "      <td>0.666667</td>\n",
       "      <td>1.000000</td>\n",
       "      <td>209.000000</td>\n",
       "      <td>9.000000</td>\n",
       "    </tr>\n",
       "  </tbody>\n",
       "</table>\n",
       "<p>8 rows × 536 columns</p>\n",
       "</div>"
      ],
      "text/plain": [
       "       Price_per_unit      Rating  Rating_count  1 star count  2 star count  \\\n",
       "count      187.000000  187.000000    187.000000    187.000000    187.000000   \n",
       "mean        28.606631    4.232620    163.310160      6.331551      5.941176   \n",
       "std         33.722822    0.334977    234.373289     10.512012      9.168774   \n",
       "min          0.790000    3.200000      1.000000      0.000000      0.000000   \n",
       "25%         13.990000    4.000000     42.500000      1.000000      1.000000   \n",
       "50%         20.990000    4.300000     82.000000      3.000000      3.000000   \n",
       "75%         35.990000    4.500000    167.000000      8.000000      8.000000   \n",
       "max        349.990000    5.000000   1298.000000     73.000000     57.000000   \n",
       "\n",
       "       3 star count  4 star count  5 star count  recommendation_count  \\\n",
       "count    187.000000    187.000000    187.000000            187.000000   \n",
       "mean      12.540107     42.122995     96.374332             73.882353   \n",
       "std       16.243187     55.406619    164.674717             84.275451   \n",
       "min        0.000000      0.000000      1.000000              1.000000   \n",
       "25%        4.000000     11.000000     23.000000             24.000000   \n",
       "50%        8.000000     25.000000     42.000000             42.000000   \n",
       "75%       15.000000     47.500000     95.500000             93.000000   \n",
       "max       94.000000    281.000000    943.000000            475.000000   \n",
       "\n",
       "       recommendation_percent  ...         509         510         511  \\\n",
       "count              187.000000  ...  170.000000  170.000000  170.000000   \n",
       "mean                83.550802  ...    0.024968   -0.051319    0.017955   \n",
       "std                  9.359679  ...    0.029142    0.012665    0.033357   \n",
       "min                 58.000000  ...   -0.065163   -0.069405   -0.064085   \n",
       "25%                 78.000000  ...    0.008225   -0.056458   -0.006669   \n",
       "50%                 86.000000  ...    0.037453   -0.052565    0.030282   \n",
       "75%                 90.500000  ...    0.047613   -0.049460    0.046070   \n",
       "max                100.000000  ...    0.059613    0.039408    0.058448   \n",
       "\n",
       "       1star_percent  2star_percent  3star_percent  4star_percent  \\\n",
       "count     187.000000     187.000000     187.000000     187.000000   \n",
       "mean        0.049765       0.040334       0.089316       0.266927   \n",
       "std         0.051107       0.033375       0.048979       0.096295   \n",
       "min         0.000000       0.000000       0.000000       0.000000   \n",
       "25%         0.017467       0.012899       0.052517       0.207447   \n",
       "50%         0.034965       0.035088       0.088235       0.255319   \n",
       "75%         0.061538       0.060976       0.119406       0.326861   \n",
       "max         0.262069       0.142857       0.272727       0.666667   \n",
       "\n",
       "       5star_percent  pros_count  cons_count  \n",
       "count     187.000000  187.000000   12.000000  \n",
       "mean        0.553658   47.989305    4.166667  \n",
       "std         0.153034   43.044737    1.992410  \n",
       "min         0.285714    2.000000    3.000000  \n",
       "25%         0.427069   16.500000    3.000000  \n",
       "50%         0.531469   34.000000    3.000000  \n",
       "75%         0.670611   65.500000    5.000000  \n",
       "max         1.000000  209.000000    9.000000  \n",
       "\n",
       "[8 rows x 536 columns]"
      ]
     },
     "execution_count": 63,
     "metadata": {},
     "output_type": "execute_result"
    }
   ],
   "source": [
    "valued.describe()"
   ]
  },
  {
   "cell_type": "markdown",
   "id": "40385b03",
   "metadata": {},
   "source": [
    "### Satisfied product analysis"
   ]
  },
  {
   "cell_type": "code",
   "execution_count": 64,
   "id": "45fcb8f4",
   "metadata": {},
   "outputs": [],
   "source": [
    "satisfied=df_pros[(df_pros['Pros2']=='satisfaction')| (df_pros['Pros1']=='satisfaction') | (df_pros['Pros3']=='satisfaction')]"
   ]
  },
  {
   "cell_type": "code",
   "execution_count": 65,
   "id": "07ba9512",
   "metadata": {},
   "outputs": [],
   "source": [
    "# satisfied[satisfied['Price_per_unit']>200]"
   ]
  },
  {
   "cell_type": "code",
   "execution_count": 66,
   "id": "738b3c31",
   "metadata": {},
   "outputs": [],
   "source": [
    "#satisfied[(satisfied['Price_per_unit']<10)& (satisfied['Rating']>4.6)]"
   ]
  },
  {
   "cell_type": "code",
   "execution_count": 67,
   "id": "8880b503",
   "metadata": {},
   "outputs": [
    {
     "data": {
      "image/png": "[encoded data removed]",
      "text/plain": [
       "<Figure size 864x648 with 1 Axes>"
      ]
     },
     "metadata": {
      "needs_background": "light"
     },
     "output_type": "display_data"
    }
   ],
   "source": [
    "#b=pd.DataFrame(df[['BEER_SALES','WINE_SALES','SPIRITS_SALES','OTHERS_SALES']].sum(),columns=['Total sales'])\n",
    "fig,ax =plt.subplots(figsize=(12,9))\n",
    "sns.countplot(x=satisfied['rating_bin'], hue=satisfied['Price_category'])\n",
    "plt.title('Total number of products under each price category and rating bin:')\n",
    "plt.xlabel('Rating bins of the product')\n",
    "plt.ylabel('Number of products')\n",
    "\n",
    "li=[]\n",
    "for p in ax.patches:\n",
    "    li.append(p.get_height())\n",
    "li=np.array(li)\n",
    "li[np.isnan(li)] = 0\n",
    "    \n",
    "s=[]\n",
    "s.append(li[0]+li[5]+li[10])\n",
    "s.append(li[1]+li[6]+li[11])\n",
    "s.append(li[2]+li[7]+li[12])\n",
    "s.append(li[3]+li[8]+li[13])\n",
    "s.append(li[4]+li[9]+li[14])\n",
    "c=-1\n",
    "for p in ax.patches:\n",
    "    c=c+1\n",
    "    if(c==5):\n",
    "        c=0\n",
    "    ax.annotate('{:.01f}%'.format(p.get_height()/s[c]*100), (p.get_x()+0.04, p.get_height()+3), fontsize=8.5)\n",
    "    \n",
    "plt.legend(loc='upper left')\n",
    "plt.show()\n"
   ]
  },
  {
   "cell_type": "code",
   "execution_count": 68,
   "id": "5f8b6c0f",
   "metadata": {},
   "outputs": [
    {
     "data": {
      "text/html": [
       "<div>\n",
       "<style scoped>\n",
       "    .dataframe tbody tr th:only-of-type {\n",
       "        vertical-align: middle;\n",
       "    }\n",
       "\n",
       "    .dataframe tbody tr th {\n",
       "        vertical-align: top;\n",
       "    }\n",
       "\n",
       "    .dataframe thead th {\n",
       "        text-align: right;\n",
       "    }\n",
       "</style>\n",
       "<table border=\"1\" class=\"dataframe\">\n",
       "  <thead>\n",
       "    <tr style=\"text-align: right;\">\n",
       "      <th></th>\n",
       "      <th>Price_per_unit</th>\n",
       "      <th>Rating</th>\n",
       "      <th>Rating_count</th>\n",
       "      <th>1 star count</th>\n",
       "      <th>2 star count</th>\n",
       "      <th>3 star count</th>\n",
       "      <th>4 star count</th>\n",
       "      <th>5 star count</th>\n",
       "      <th>recommendation_count</th>\n",
       "      <th>recommendation_percent</th>\n",
       "      <th>...</th>\n",
       "      <th>509</th>\n",
       "      <th>510</th>\n",
       "      <th>511</th>\n",
       "      <th>1star_percent</th>\n",
       "      <th>2star_percent</th>\n",
       "      <th>3star_percent</th>\n",
       "      <th>4star_percent</th>\n",
       "      <th>5star_percent</th>\n",
       "      <th>pros_count</th>\n",
       "      <th>cons_count</th>\n",
       "    </tr>\n",
       "  </thead>\n",
       "  <tbody>\n",
       "    <tr>\n",
       "      <th>count</th>\n",
       "      <td>897.000000</td>\n",
       "      <td>897.000000</td>\n",
       "      <td>897.000000</td>\n",
       "      <td>897.000000</td>\n",
       "      <td>897.000000</td>\n",
       "      <td>897.000000</td>\n",
       "      <td>897.000000</td>\n",
       "      <td>897.000000</td>\n",
       "      <td>897.000000</td>\n",
       "      <td>897.000000</td>\n",
       "      <td>...</td>\n",
       "      <td>806.000000</td>\n",
       "      <td>806.000000</td>\n",
       "      <td>806.000000</td>\n",
       "      <td>897.000000</td>\n",
       "      <td>897.000000</td>\n",
       "      <td>897.000000</td>\n",
       "      <td>897.000000</td>\n",
       "      <td>897.000000</td>\n",
       "      <td>897.000000</td>\n",
       "      <td>52.000000</td>\n",
       "    </tr>\n",
       "    <tr>\n",
       "      <th>mean</th>\n",
       "      <td>46.474950</td>\n",
       "      <td>4.436343</td>\n",
       "      <td>242.935340</td>\n",
       "      <td>5.454849</td>\n",
       "      <td>4.625418</td>\n",
       "      <td>13.856187</td>\n",
       "      <td>43.257525</td>\n",
       "      <td>175.741360</td>\n",
       "      <td>51.085842</td>\n",
       "      <td>85.715719</td>\n",
       "      <td>...</td>\n",
       "      <td>0.009904</td>\n",
       "      <td>-0.043686</td>\n",
       "      <td>0.003897</td>\n",
       "      <td>0.042429</td>\n",
       "      <td>0.030824</td>\n",
       "      <td>0.060801</td>\n",
       "      <td>0.180361</td>\n",
       "      <td>0.685585</td>\n",
       "      <td>33.933110</td>\n",
       "      <td>4.692308</td>\n",
       "    </tr>\n",
       "    <tr>\n",
       "      <th>std</th>\n",
       "      <td>94.846875</td>\n",
       "      <td>0.357189</td>\n",
       "      <td>745.173732</td>\n",
       "      <td>10.732670</td>\n",
       "      <td>11.024331</td>\n",
       "      <td>47.508675</td>\n",
       "      <td>133.958205</td>\n",
       "      <td>549.977755</td>\n",
       "      <td>70.926399</td>\n",
       "      <td>10.878823</td>\n",
       "      <td>...</td>\n",
       "      <td>0.032526</td>\n",
       "      <td>0.021674</td>\n",
       "      <td>0.038160</td>\n",
       "      <td>0.060279</td>\n",
       "      <td>0.037541</td>\n",
       "      <td>0.048362</td>\n",
       "      <td>0.102231</td>\n",
       "      <td>0.159089</td>\n",
       "      <td>46.533542</td>\n",
       "      <td>3.090393</td>\n",
       "    </tr>\n",
       "    <tr>\n",
       "      <th>min</th>\n",
       "      <td>0.790000</td>\n",
       "      <td>2.100000</td>\n",
       "      <td>1.000000</td>\n",
       "      <td>0.000000</td>\n",
       "      <td>0.000000</td>\n",
       "      <td>0.000000</td>\n",
       "      <td>0.000000</td>\n",
       "      <td>1.000000</td>\n",
       "      <td>1.000000</td>\n",
       "      <td>25.000000</td>\n",
       "      <td>...</td>\n",
       "      <td>-0.069642</td>\n",
       "      <td>-0.074724</td>\n",
       "      <td>-0.086905</td>\n",
       "      <td>0.000000</td>\n",
       "      <td>0.000000</td>\n",
       "      <td>0.000000</td>\n",
       "      <td>0.000000</td>\n",
       "      <td>0.210526</td>\n",
       "      <td>2.000000</td>\n",
       "      <td>3.000000</td>\n",
       "    </tr>\n",
       "    <tr>\n",
       "      <th>25%</th>\n",
       "      <td>16.990000</td>\n",
       "      <td>4.300000</td>\n",
       "      <td>25.000000</td>\n",
       "      <td>0.000000</td>\n",
       "      <td>0.000000</td>\n",
       "      <td>1.000000</td>\n",
       "      <td>4.000000</td>\n",
       "      <td>15.000000</td>\n",
       "      <td>13.000000</td>\n",
       "      <td>80.000000</td>\n",
       "      <td>...</td>\n",
       "      <td>-0.014319</td>\n",
       "      <td>-0.055378</td>\n",
       "      <td>-0.031361</td>\n",
       "      <td>0.000000</td>\n",
       "      <td>0.000000</td>\n",
       "      <td>0.027523</td>\n",
       "      <td>0.107143</td>\n",
       "      <td>0.575758</td>\n",
       "      <td>8.000000</td>\n",
       "      <td>3.000000</td>\n",
       "    </tr>\n",
       "    <tr>\n",
       "      <th>50%</th>\n",
       "      <td>29.990000</td>\n",
       "      <td>4.500000</td>\n",
       "      <td>53.000000</td>\n",
       "      <td>2.000000</td>\n",
       "      <td>1.000000</td>\n",
       "      <td>3.000000</td>\n",
       "      <td>10.000000</td>\n",
       "      <td>35.000000</td>\n",
       "      <td>25.000000</td>\n",
       "      <td>88.000000</td>\n",
       "      <td>...</td>\n",
       "      <td>0.015956</td>\n",
       "      <td>-0.050617</td>\n",
       "      <td>0.008570</td>\n",
       "      <td>0.025180</td>\n",
       "      <td>0.017857</td>\n",
       "      <td>0.050955</td>\n",
       "      <td>0.166667</td>\n",
       "      <td>0.716418</td>\n",
       "      <td>16.000000</td>\n",
       "      <td>3.000000</td>\n",
       "    </tr>\n",
       "    <tr>\n",
       "      <th>75%</th>\n",
       "      <td>49.990000</td>\n",
       "      <td>4.700000</td>\n",
       "      <td>172.000000</td>\n",
       "      <td>6.000000</td>\n",
       "      <td>4.000000</td>\n",
       "      <td>9.000000</td>\n",
       "      <td>28.000000</td>\n",
       "      <td>122.000000</td>\n",
       "      <td>60.000000</td>\n",
       "      <td>93.000000</td>\n",
       "      <td>...</td>\n",
       "      <td>0.038644</td>\n",
       "      <td>-0.041572</td>\n",
       "      <td>0.039940</td>\n",
       "      <td>0.053571</td>\n",
       "      <td>0.046154</td>\n",
       "      <td>0.093502</td>\n",
       "      <td>0.244898</td>\n",
       "      <td>0.806452</td>\n",
       "      <td>39.000000</td>\n",
       "      <td>6.000000</td>\n",
       "    </tr>\n",
       "    <tr>\n",
       "      <th>max</th>\n",
       "      <td>1699.900000</td>\n",
       "      <td>5.000000</td>\n",
       "      <td>7302.000000</td>\n",
       "      <td>87.000000</td>\n",
       "      <td>107.000000</td>\n",
       "      <td>488.000000</td>\n",
       "      <td>1349.000000</td>\n",
       "      <td>5290.000000</td>\n",
       "      <td>526.000000</td>\n",
       "      <td>100.000000</td>\n",
       "      <td>...</td>\n",
       "      <td>0.057750</td>\n",
       "      <td>0.063451</td>\n",
       "      <td>0.068949</td>\n",
       "      <td>0.647059</td>\n",
       "      <td>0.250000</td>\n",
       "      <td>0.250000</td>\n",
       "      <td>0.615385</td>\n",
       "      <td>1.000000</td>\n",
       "      <td>332.000000</td>\n",
       "      <td>18.000000</td>\n",
       "    </tr>\n",
       "  </tbody>\n",
       "</table>\n",
       "<p>8 rows × 536 columns</p>\n",
       "</div>"
      ],
      "text/plain": [
       "       Price_per_unit      Rating  Rating_count  1 star count  2 star count  \\\n",
       "count      897.000000  897.000000    897.000000    897.000000    897.000000   \n",
       "mean        46.474950    4.436343    242.935340      5.454849      4.625418   \n",
       "std         94.846875    0.357189    745.173732     10.732670     11.024331   \n",
       "min          0.790000    2.100000      1.000000      0.000000      0.000000   \n",
       "25%         16.990000    4.300000     25.000000      0.000000      0.000000   \n",
       "50%         29.990000    4.500000     53.000000      2.000000      1.000000   \n",
       "75%         49.990000    4.700000    172.000000      6.000000      4.000000   \n",
       "max       1699.900000    5.000000   7302.000000     87.000000    107.000000   \n",
       "\n",
       "       3 star count  4 star count  5 star count  recommendation_count  \\\n",
       "count    897.000000    897.000000    897.000000            897.000000   \n",
       "mean      13.856187     43.257525    175.741360             51.085842   \n",
       "std       47.508675    133.958205    549.977755             70.926399   \n",
       "min        0.000000      0.000000      1.000000              1.000000   \n",
       "25%        1.000000      4.000000     15.000000             13.000000   \n",
       "50%        3.000000     10.000000     35.000000             25.000000   \n",
       "75%        9.000000     28.000000    122.000000             60.000000   \n",
       "max      488.000000   1349.000000   5290.000000            526.000000   \n",
       "\n",
       "       recommendation_percent  ...         509         510         511  \\\n",
       "count              897.000000  ...  806.000000  806.000000  806.000000   \n",
       "mean                85.715719  ...    0.009904   -0.043686    0.003897   \n",
       "std                 10.878823  ...    0.032526    0.021674    0.038160   \n",
       "min                 25.000000  ...   -0.069642   -0.074724   -0.086905   \n",
       "25%                 80.000000  ...   -0.014319   -0.055378   -0.031361   \n",
       "50%                 88.000000  ...    0.015956   -0.050617    0.008570   \n",
       "75%                 93.000000  ...    0.038644   -0.041572    0.039940   \n",
       "max                100.000000  ...    0.057750    0.063451    0.068949   \n",
       "\n",
       "       1star_percent  2star_percent  3star_percent  4star_percent  \\\n",
       "count     897.000000     897.000000     897.000000     897.000000   \n",
       "mean        0.042429       0.030824       0.060801       0.180361   \n",
       "std         0.060279       0.037541       0.048362       0.102231   \n",
       "min         0.000000       0.000000       0.000000       0.000000   \n",
       "25%         0.000000       0.000000       0.027523       0.107143   \n",
       "50%         0.025180       0.017857       0.050955       0.166667   \n",
       "75%         0.053571       0.046154       0.093502       0.244898   \n",
       "max         0.647059       0.250000       0.250000       0.615385   \n",
       "\n",
       "       5star_percent  pros_count  cons_count  \n",
       "count     897.000000  897.000000   52.000000  \n",
       "mean        0.685585   33.933110    4.692308  \n",
       "std         0.159089   46.533542    3.090393  \n",
       "min         0.210526    2.000000    3.000000  \n",
       "25%         0.575758    8.000000    3.000000  \n",
       "50%         0.716418   16.000000    3.000000  \n",
       "75%         0.806452   39.000000    6.000000  \n",
       "max         1.000000  332.000000   18.000000  \n",
       "\n",
       "[8 rows x 536 columns]"
      ]
     },
     "execution_count": 68,
     "metadata": {},
     "output_type": "execute_result"
    }
   ],
   "source": [
    "satisfied.describe()"
   ]
  },
  {
   "cell_type": "markdown",
   "id": "fe42c519",
   "metadata": {},
   "source": [
    "### Enjoyment"
   ]
  },
  {
   "cell_type": "code",
   "execution_count": 69,
   "id": "2b43056f",
   "metadata": {},
   "outputs": [],
   "source": [
    "enjoyed=df_pros[(df_pros['Pros2']=='enjoyment')| (df_pros['Pros1']=='enjoyment') | (df_pros['Pros3']=='enjoyment')]"
   ]
  },
  {
   "cell_type": "code",
   "execution_count": 70,
   "id": "2e289ce3",
   "metadata": {},
   "outputs": [],
   "source": [
    "# enjoyed[enjoyed['Price_category']=='High price']\n",
    "\n",
    "# #Dist of enjoyment in bar plot acc to Price_category"
   ]
  },
  {
   "cell_type": "code",
   "execution_count": 71,
   "id": "74ecb372",
   "metadata": {},
   "outputs": [
    {
     "data": {
      "image/png": "[encoded data removed]",
      "text/plain": [
       "<Figure size 864x648 with 1 Axes>"
      ]
     },
     "metadata": {
      "needs_background": "light"
     },
     "output_type": "display_data"
    }
   ],
   "source": [
    "#b=pd.DataFrame(df[['BEER_SALES','WINE_SALES','SPIRITS_SALES','OTHERS_SALES']].sum(),columns=['Total sales'])\n",
    "fig,ax =plt.subplots(figsize=(12,9))\n",
    "sns.countplot(x=enjoyed['rating_bin'], hue=enjoyed['Price_category'])\n",
    "plt.title('Total number of products under each price category and rating bin:')\n",
    "plt.xlabel('Rating bins of the product')\n",
    "plt.ylabel('Number of products')\n",
    "\n",
    "li=[]\n",
    "for p in ax.patches:\n",
    "    li.append(p.get_height())\n",
    "li=np.array(li)\n",
    "li[np.isnan(li)] = 0\n",
    "    \n",
    "s=[]\n",
    "s.append(li[0]+li[5]+li[10])\n",
    "s.append(li[1]+li[6]+li[11])\n",
    "s.append(li[2]+li[7]+li[12])\n",
    "s.append(li[3]+li[8]+li[13])\n",
    "s.append(li[4]+li[9]+li[14])\n",
    "c=-1\n",
    "for p in ax.patches:\n",
    "    c=c+1\n",
    "    if(c==5):\n",
    "        c=0\n",
    "    ax.annotate('{:.01f}%'.format(p.get_height()/s[c]*100), (p.get_x()+0.04, p.get_height()+1), fontsize=8.5)\n",
    "    \n",
    "plt.legend(loc='upper left')\n",
    "plt.show()\n"
   ]
  },
  {
   "cell_type": "markdown",
   "id": "0238faae",
   "metadata": {},
   "source": [
    "## CONS Analysis: Nothing significant"
   ]
  },
  {
   "cell_type": "code",
   "execution_count": 72,
   "id": "60369dad",
   "metadata": {},
   "outputs": [],
   "source": [
    "df_cons=df.dropna(subset=['Cons']).reset_index(drop=True)"
   ]
  },
  {
   "cell_type": "code",
   "execution_count": 73,
   "id": "e2a4eba7",
   "metadata": {},
   "outputs": [],
   "source": [
    "for i in range(df_cons.shape[0]):\n",
    "    cons_list=list(json.loads(df_cons.loc[i,'Cons'].replace(\"'\", \"\\\"\")).keys())\n",
    "    df_cons.loc[i,'Cons1']=cons_list[0]\n",
    "    try:\n",
    "        df_cons.loc[i,'Cons2']=cons_list[1]\n",
    "    except:\n",
    "        df_cons.loc[i,'Cons2']=np.nan\n",
    "    try:\n",
    "        df_cons.loc[i,'Cons3']=cons_list[2]\n",
    "    except:\n",
    "        df_cons.loc[i,'Cons3']=np.nan\n",
    "        "
   ]
  },
  {
   "cell_type": "code",
   "execution_count": 74,
   "id": "b9228761",
   "metadata": {},
   "outputs": [
    {
     "data": {
      "image/png": "[encoded data removed]",
      "text/plain": [
       "<Figure size 648x648 with 1 Axes>"
      ]
     },
     "metadata": {
      "needs_background": "light"
     },
     "output_type": "display_data"
    }
   ],
   "source": [
    "a=pd.DataFrame(df_cons['Cons1'].value_counts()).drop('price')\n",
    "fig,ax =plt.subplots(figsize=(9,9))\n",
    "g=sns.barplot(data = a, x='Cons1',y=a.index,orient='h')\n",
    "plt.title('Top cons of the products:')\n",
    "plt.xlabel('Number of products')\n",
    "plt.ylabel('Cons keywords')\n",
    "\n",
    "\n",
    "\n",
    "plt.show()\n"
   ]
  },
  {
   "cell_type": "code",
   "execution_count": 75,
   "id": "f313c0e5",
   "metadata": {},
   "outputs": [
    {
     "data": {
      "text/html": [
       "<div>\n",
       "<style scoped>\n",
       "    .dataframe tbody tr th:only-of-type {\n",
       "        vertical-align: middle;\n",
       "    }\n",
       "\n",
       "    .dataframe tbody tr th {\n",
       "        vertical-align: top;\n",
       "    }\n",
       "\n",
       "    .dataframe thead th {\n",
       "        text-align: right;\n",
       "    }\n",
       "</style>\n",
       "<table border=\"1\" class=\"dataframe\">\n",
       "  <thead>\n",
       "    <tr style=\"text-align: right;\">\n",
       "      <th></th>\n",
       "      <th>Price_per_unit</th>\n",
       "      <th>Rating</th>\n",
       "      <th>Rating_count</th>\n",
       "      <th>1 star count</th>\n",
       "      <th>2 star count</th>\n",
       "      <th>3 star count</th>\n",
       "      <th>4 star count</th>\n",
       "      <th>5 star count</th>\n",
       "      <th>recommendation_count</th>\n",
       "      <th>recommendation_percent</th>\n",
       "      <th>...</th>\n",
       "      <th>509</th>\n",
       "      <th>510</th>\n",
       "      <th>511</th>\n",
       "      <th>1star_percent</th>\n",
       "      <th>2star_percent</th>\n",
       "      <th>3star_percent</th>\n",
       "      <th>4star_percent</th>\n",
       "      <th>5star_percent</th>\n",
       "      <th>pros_count</th>\n",
       "      <th>cons_count</th>\n",
       "    </tr>\n",
       "  </thead>\n",
       "  <tbody>\n",
       "    <tr>\n",
       "      <th>count</th>\n",
       "      <td>56.000000</td>\n",
       "      <td>56.000000</td>\n",
       "      <td>56.000000</td>\n",
       "      <td>56.000000</td>\n",
       "      <td>56.000000</td>\n",
       "      <td>56.000000</td>\n",
       "      <td>56.000000</td>\n",
       "      <td>56.000000</td>\n",
       "      <td>56.000000</td>\n",
       "      <td>56.000000</td>\n",
       "      <td>...</td>\n",
       "      <td>50.000000</td>\n",
       "      <td>50.000000</td>\n",
       "      <td>50.000000</td>\n",
       "      <td>56.000000</td>\n",
       "      <td>56.000000</td>\n",
       "      <td>56.000000</td>\n",
       "      <td>56.000000</td>\n",
       "      <td>56.000000</td>\n",
       "      <td>56.000000</td>\n",
       "      <td>56.000000</td>\n",
       "    </tr>\n",
       "    <tr>\n",
       "      <th>mean</th>\n",
       "      <td>33.238393</td>\n",
       "      <td>4.067857</td>\n",
       "      <td>243.142857</td>\n",
       "      <td>17.642857</td>\n",
       "      <td>10.785714</td>\n",
       "      <td>17.875000</td>\n",
       "      <td>52.071429</td>\n",
       "      <td>144.767857</td>\n",
       "      <td>145.017857</td>\n",
       "      <td>76.089286</td>\n",
       "      <td>...</td>\n",
       "      <td>0.025037</td>\n",
       "      <td>-0.051583</td>\n",
       "      <td>0.000189</td>\n",
       "      <td>0.103003</td>\n",
       "      <td>0.056879</td>\n",
       "      <td>0.072639</td>\n",
       "      <td>0.196200</td>\n",
       "      <td>0.571278</td>\n",
       "      <td>61.303571</td>\n",
       "      <td>4.946429</td>\n",
       "    </tr>\n",
       "    <tr>\n",
       "      <th>std</th>\n",
       "      <td>29.198597</td>\n",
       "      <td>0.507796</td>\n",
       "      <td>200.283293</td>\n",
       "      <td>17.633056</td>\n",
       "      <td>11.266546</td>\n",
       "      <td>19.933583</td>\n",
       "      <td>50.215122</td>\n",
       "      <td>139.792833</td>\n",
       "      <td>145.015045</td>\n",
       "      <td>13.983467</td>\n",
       "      <td>...</td>\n",
       "      <td>0.027716</td>\n",
       "      <td>0.005456</td>\n",
       "      <td>0.036759</td>\n",
       "      <td>0.105270</td>\n",
       "      <td>0.041442</td>\n",
       "      <td>0.040087</td>\n",
       "      <td>0.084978</td>\n",
       "      <td>0.174635</td>\n",
       "      <td>53.963260</td>\n",
       "      <td>3.579841</td>\n",
       "    </tr>\n",
       "    <tr>\n",
       "      <th>min</th>\n",
       "      <td>0.990000</td>\n",
       "      <td>2.700000</td>\n",
       "      <td>12.000000</td>\n",
       "      <td>0.000000</td>\n",
       "      <td>0.000000</td>\n",
       "      <td>0.000000</td>\n",
       "      <td>0.000000</td>\n",
       "      <td>6.000000</td>\n",
       "      <td>4.000000</td>\n",
       "      <td>35.000000</td>\n",
       "      <td>...</td>\n",
       "      <td>-0.049544</td>\n",
       "      <td>-0.067386</td>\n",
       "      <td>-0.051023</td>\n",
       "      <td>0.000000</td>\n",
       "      <td>0.000000</td>\n",
       "      <td>0.000000</td>\n",
       "      <td>0.000000</td>\n",
       "      <td>0.230769</td>\n",
       "      <td>3.000000</td>\n",
       "      <td>3.000000</td>\n",
       "    </tr>\n",
       "    <tr>\n",
       "      <th>25%</th>\n",
       "      <td>14.990000</td>\n",
       "      <td>3.675000</td>\n",
       "      <td>64.250000</td>\n",
       "      <td>5.000000</td>\n",
       "      <td>4.000000</td>\n",
       "      <td>4.000000</td>\n",
       "      <td>10.000000</td>\n",
       "      <td>32.500000</td>\n",
       "      <td>28.000000</td>\n",
       "      <td>66.500000</td>\n",
       "      <td>...</td>\n",
       "      <td>0.001092</td>\n",
       "      <td>-0.055275</td>\n",
       "      <td>-0.037793</td>\n",
       "      <td>0.034858</td>\n",
       "      <td>0.027322</td>\n",
       "      <td>0.040509</td>\n",
       "      <td>0.133234</td>\n",
       "      <td>0.443878</td>\n",
       "      <td>11.750000</td>\n",
       "      <td>3.000000</td>\n",
       "    </tr>\n",
       "    <tr>\n",
       "      <th>50%</th>\n",
       "      <td>25.990000</td>\n",
       "      <td>4.200000</td>\n",
       "      <td>183.000000</td>\n",
       "      <td>13.000000</td>\n",
       "      <td>6.500000</td>\n",
       "      <td>11.000000</td>\n",
       "      <td>40.000000</td>\n",
       "      <td>111.000000</td>\n",
       "      <td>105.000000</td>\n",
       "      <td>80.000000</td>\n",
       "      <td>...</td>\n",
       "      <td>0.038108</td>\n",
       "      <td>-0.050850</td>\n",
       "      <td>0.006350</td>\n",
       "      <td>0.055556</td>\n",
       "      <td>0.042403</td>\n",
       "      <td>0.065045</td>\n",
       "      <td>0.196721</td>\n",
       "      <td>0.561333</td>\n",
       "      <td>56.000000</td>\n",
       "      <td>3.000000</td>\n",
       "    </tr>\n",
       "    <tr>\n",
       "      <th>75%</th>\n",
       "      <td>44.990000</td>\n",
       "      <td>4.500000</td>\n",
       "      <td>392.000000</td>\n",
       "      <td>23.000000</td>\n",
       "      <td>15.000000</td>\n",
       "      <td>22.000000</td>\n",
       "      <td>89.000000</td>\n",
       "      <td>198.000000</td>\n",
       "      <td>246.000000</td>\n",
       "      <td>89.000000</td>\n",
       "      <td>...</td>\n",
       "      <td>0.047843</td>\n",
       "      <td>-0.048584</td>\n",
       "      <td>0.034125</td>\n",
       "      <td>0.142439</td>\n",
       "      <td>0.081081</td>\n",
       "      <td>0.100236</td>\n",
       "      <td>0.282686</td>\n",
       "      <td>0.726282</td>\n",
       "      <td>75.000000</td>\n",
       "      <td>6.000000</td>\n",
       "    </tr>\n",
       "    <tr>\n",
       "      <th>max</th>\n",
       "      <td>159.900000</td>\n",
       "      <td>4.700000</td>\n",
       "      <td>668.000000</td>\n",
       "      <td>73.000000</td>\n",
       "      <td>57.000000</td>\n",
       "      <td>94.000000</td>\n",
       "      <td>202.000000</td>\n",
       "      <td>524.000000</td>\n",
       "      <td>526.000000</td>\n",
       "      <td>95.000000</td>\n",
       "      <td>...</td>\n",
       "      <td>0.051883</td>\n",
       "      <td>-0.034319</td>\n",
       "      <td>0.051226</td>\n",
       "      <td>0.454545</td>\n",
       "      <td>0.200000</td>\n",
       "      <td>0.166667</td>\n",
       "      <td>0.326861</td>\n",
       "      <td>0.852273</td>\n",
       "      <td>209.000000</td>\n",
       "      <td>19.000000</td>\n",
       "    </tr>\n",
       "  </tbody>\n",
       "</table>\n",
       "<p>8 rows × 536 columns</p>\n",
       "</div>"
      ],
      "text/plain": [
       "       Price_per_unit     Rating  Rating_count  1 star count  2 star count  \\\n",
       "count       56.000000  56.000000     56.000000     56.000000     56.000000   \n",
       "mean        33.238393   4.067857    243.142857     17.642857     10.785714   \n",
       "std         29.198597   0.507796    200.283293     17.633056     11.266546   \n",
       "min          0.990000   2.700000     12.000000      0.000000      0.000000   \n",
       "25%         14.990000   3.675000     64.250000      5.000000      4.000000   \n",
       "50%         25.990000   4.200000    183.000000     13.000000      6.500000   \n",
       "75%         44.990000   4.500000    392.000000     23.000000     15.000000   \n",
       "max        159.900000   4.700000    668.000000     73.000000     57.000000   \n",
       "\n",
       "       3 star count  4 star count  5 star count  recommendation_count  \\\n",
       "count     56.000000     56.000000     56.000000             56.000000   \n",
       "mean      17.875000     52.071429    144.767857            145.017857   \n",
       "std       19.933583     50.215122    139.792833            145.015045   \n",
       "min        0.000000      0.000000      6.000000              4.000000   \n",
       "25%        4.000000     10.000000     32.500000             28.000000   \n",
       "50%       11.000000     40.000000    111.000000            105.000000   \n",
       "75%       22.000000     89.000000    198.000000            246.000000   \n",
       "max       94.000000    202.000000    524.000000            526.000000   \n",
       "\n",
       "       recommendation_percent  ...        509        510        511  \\\n",
       "count               56.000000  ...  50.000000  50.000000  50.000000   \n",
       "mean                76.089286  ...   0.025037  -0.051583   0.000189   \n",
       "std                 13.983467  ...   0.027716   0.005456   0.036759   \n",
       "min                 35.000000  ...  -0.049544  -0.067386  -0.051023   \n",
       "25%                 66.500000  ...   0.001092  -0.055275  -0.037793   \n",
       "50%                 80.000000  ...   0.038108  -0.050850   0.006350   \n",
       "75%                 89.000000  ...   0.047843  -0.048584   0.034125   \n",
       "max                 95.000000  ...   0.051883  -0.034319   0.051226   \n",
       "\n",
       "       1star_percent  2star_percent  3star_percent  4star_percent  \\\n",
       "count      56.000000      56.000000      56.000000      56.000000   \n",
       "mean        0.103003       0.056879       0.072639       0.196200   \n",
       "std         0.105270       0.041442       0.040087       0.084978   \n",
       "min         0.000000       0.000000       0.000000       0.000000   \n",
       "25%         0.034858       0.027322       0.040509       0.133234   \n",
       "50%         0.055556       0.042403       0.065045       0.196721   \n",
       "75%         0.142439       0.081081       0.100236       0.282686   \n",
       "max         0.454545       0.200000       0.166667       0.326861   \n",
       "\n",
       "       5star_percent  pros_count  cons_count  \n",
       "count      56.000000   56.000000   56.000000  \n",
       "mean        0.571278   61.303571    4.946429  \n",
       "std         0.174635   53.963260    3.579841  \n",
       "min         0.230769    3.000000    3.000000  \n",
       "25%         0.443878   11.750000    3.000000  \n",
       "50%         0.561333   56.000000    3.000000  \n",
       "75%         0.726282   75.000000    6.000000  \n",
       "max         0.852273  209.000000   19.000000  \n",
       "\n",
       "[8 rows x 536 columns]"
      ]
     },
     "execution_count": 75,
     "metadata": {},
     "output_type": "execute_result"
    }
   ],
   "source": [
    "df_cons.describe()"
   ]
  },
  {
   "cell_type": "code",
   "execution_count": 78,
   "id": "0e1bc13c",
   "metadata": {},
   "outputs": [],
   "source": [
    "# disappointing=df_cons[(df_cons['Cons1']=='price')| (df_cons['Cons2']=='price') | (df_cons['Cons3']=='price')]\n",
    "\n",
    "\n"
   ]
  },
  {
   "cell_type": "code",
   "execution_count": 77,
   "id": "2bd1a482",
   "metadata": {},
   "outputs": [],
   "source": [
    "# #b=pd.DataFrame(df[['BEER_SALES','WINE_SALES','SPIRITS_SALES','OTHERS_SALES']].sum(),columns=['Total sales'])\n",
    "# fig,ax =plt.subplots(figsize=(12,9))\n",
    "# sns.countplot(x=df_cons['rating_bin'], hue=df_cons['Price_category'])\n",
    "# plt.title('Total number of products under each price category and rating bin:')\n",
    "# plt.xlabel('Rating bins of the product')\n",
    "# plt.ylabel('Number of products')\n",
    "\n",
    "# li=[]\n",
    "# for p in ax.patches:\n",
    "#     li.append(p.get_height())\n",
    "# li=np.array(li)\n",
    "# li[np.isnan(li)] = 0\n",
    "    \n",
    "# s=[]\n",
    "# s.append(li[0]+li[5]+li[10])\n",
    "# s.append(li[1]+li[6]+li[11])\n",
    "# s.append(li[2]+li[7]+li[12])\n",
    "# s.append(li[3]+li[8]+li[13])\n",
    "# s.append(li[4]+li[9]+li[14])\n",
    "# c=-1\n",
    "# for p in ax.patches:\n",
    "#     c=c+1\n",
    "#     if(c==5):\n",
    "#         c=0\n",
    "#     ax.annotate('{:.01f}%'.format(p.get_height()/s[c]*100), (p.get_x()+0.04, p.get_height()+1), fontsize=8.5)\n",
    "    \n",
    "# plt.legend(loc='upper left')\n",
    "\n",
    "# plt.show()\n"
   ]
  },
  {
   "cell_type": "markdown",
   "id": "3811350e",
   "metadata": {},
   "source": [
    "### Predicted conclusion"
   ]
  },
  {
   "cell_type": "code",
   "execution_count": 104,
   "id": "ed7fbb8d",
   "metadata": {},
   "outputs": [],
   "source": [
    "test=pd.read_csv('test_data_level3.csv')"
   ]
  },
  {
   "cell_type": "code",
   "execution_count": 105,
   "id": "bfcb936a",
   "metadata": {},
   "outputs": [
    {
     "data": {
      "text/plain": [
       "84.90229885057471"
      ]
     },
     "execution_count": 105,
     "metadata": {},
     "output_type": "execute_result"
    }
   ],
   "source": [
    "test['recommendation_percent'].mean()"
   ]
  },
  {
   "cell_type": "code",
   "execution_count": 106,
   "id": "48d2b959",
   "metadata": {},
   "outputs": [
    {
     "data": {
      "text/plain": [
       "84.36345616091953"
      ]
     },
     "execution_count": 106,
     "metadata": {},
     "output_type": "execute_result"
    }
   ],
   "source": [
    "test['recommendation_prediction'].mean()"
   ]
  },
  {
   "cell_type": "code",
   "execution_count": 107,
   "id": "fda0b1d1",
   "metadata": {},
   "outputs": [
    {
     "data": {
      "text/html": [
       "<div>\n",
       "<style scoped>\n",
       "    .dataframe tbody tr th:only-of-type {\n",
       "        vertical-align: middle;\n",
       "    }\n",
       "\n",
       "    .dataframe tbody tr th {\n",
       "        vertical-align: top;\n",
       "    }\n",
       "\n",
       "    .dataframe thead th {\n",
       "        text-align: right;\n",
       "    }\n",
       "</style>\n",
       "<table border=\"1\" class=\"dataframe\">\n",
       "  <thead>\n",
       "    <tr style=\"text-align: right;\">\n",
       "      <th></th>\n",
       "      <th>Price_per_unit</th>\n",
       "      <th>rating</th>\n",
       "      <th>Rating_count</th>\n",
       "      <th>recommendation_percent</th>\n",
       "      <th>recommendation_prediction</th>\n",
       "    </tr>\n",
       "  </thead>\n",
       "  <tbody>\n",
       "    <tr>\n",
       "      <th>0</th>\n",
       "      <td>39.99</td>\n",
       "      <td>4.3</td>\n",
       "      <td>138</td>\n",
       "      <td>76</td>\n",
       "      <td>79.463480</td>\n",
       "    </tr>\n",
       "    <tr>\n",
       "      <th>1</th>\n",
       "      <td>36.99</td>\n",
       "      <td>4.5</td>\n",
       "      <td>17</td>\n",
       "      <td>100</td>\n",
       "      <td>77.403400</td>\n",
       "    </tr>\n",
       "    <tr>\n",
       "      <th>2</th>\n",
       "      <td>39.99</td>\n",
       "      <td>3.6</td>\n",
       "      <td>49</td>\n",
       "      <td>60</td>\n",
       "      <td>60.671177</td>\n",
       "    </tr>\n",
       "    <tr>\n",
       "      <th>3</th>\n",
       "      <td>19.99</td>\n",
       "      <td>4.8</td>\n",
       "      <td>32</td>\n",
       "      <td>100</td>\n",
       "      <td>79.637930</td>\n",
       "    </tr>\n",
       "    <tr>\n",
       "      <th>4</th>\n",
       "      <td>35.99</td>\n",
       "      <td>4.3</td>\n",
       "      <td>6</td>\n",
       "      <td>67</td>\n",
       "      <td>82.956980</td>\n",
       "    </tr>\n",
       "    <tr>\n",
       "      <th>...</th>\n",
       "      <td>...</td>\n",
       "      <td>...</td>\n",
       "      <td>...</td>\n",
       "      <td>...</td>\n",
       "      <td>...</td>\n",
       "    </tr>\n",
       "    <tr>\n",
       "      <th>343</th>\n",
       "      <td>1.49</td>\n",
       "      <td>3.7</td>\n",
       "      <td>20</td>\n",
       "      <td>78</td>\n",
       "      <td>76.155010</td>\n",
       "    </tr>\n",
       "    <tr>\n",
       "      <th>344</th>\n",
       "      <td>56.99</td>\n",
       "      <td>4.6</td>\n",
       "      <td>22</td>\n",
       "      <td>92</td>\n",
       "      <td>88.541435</td>\n",
       "    </tr>\n",
       "    <tr>\n",
       "      <th>345</th>\n",
       "      <td>15.99</td>\n",
       "      <td>4.4</td>\n",
       "      <td>25</td>\n",
       "      <td>100</td>\n",
       "      <td>99.833020</td>\n",
       "    </tr>\n",
       "    <tr>\n",
       "      <th>346</th>\n",
       "      <td>13.49</td>\n",
       "      <td>4.8</td>\n",
       "      <td>223</td>\n",
       "      <td>94</td>\n",
       "      <td>93.972720</td>\n",
       "    </tr>\n",
       "    <tr>\n",
       "      <th>347</th>\n",
       "      <td>16.49</td>\n",
       "      <td>4.4</td>\n",
       "      <td>28</td>\n",
       "      <td>86</td>\n",
       "      <td>87.881920</td>\n",
       "    </tr>\n",
       "  </tbody>\n",
       "</table>\n",
       "<p>348 rows × 5 columns</p>\n",
       "</div>"
      ],
      "text/plain": [
       "     Price_per_unit  rating  Rating_count  recommendation_percent  \\\n",
       "0             39.99     4.3           138                      76   \n",
       "1             36.99     4.5            17                     100   \n",
       "2             39.99     3.6            49                      60   \n",
       "3             19.99     4.8            32                     100   \n",
       "4             35.99     4.3             6                      67   \n",
       "..              ...     ...           ...                     ...   \n",
       "343            1.49     3.7            20                      78   \n",
       "344           56.99     4.6            22                      92   \n",
       "345           15.99     4.4            25                     100   \n",
       "346           13.49     4.8           223                      94   \n",
       "347           16.49     4.4            28                      86   \n",
       "\n",
       "     recommendation_prediction  \n",
       "0                    79.463480  \n",
       "1                    77.403400  \n",
       "2                    60.671177  \n",
       "3                    79.637930  \n",
       "4                    82.956980  \n",
       "..                         ...  \n",
       "343                  76.155010  \n",
       "344                  88.541435  \n",
       "345                  99.833020  \n",
       "346                  93.972720  \n",
       "347                  87.881920  \n",
       "\n",
       "[348 rows x 5 columns]"
      ]
     },
     "execution_count": 107,
     "metadata": {},
     "output_type": "execute_result"
    }
   ],
   "source": [
    "test"
   ]
  },
  {
   "cell_type": "code",
   "execution_count": 108,
   "id": "6a571bf5",
   "metadata": {},
   "outputs": [],
   "source": [
    "bins = [ 2, 3, 4, 5 ]\n",
    "labels=['2-3 star','3-4 star', '4-5 star']\n",
    "test['rating_bin'] = pd.cut(test['rating'] , bins=bins, labels=labels, include_lowest=True)"
   ]
  },
  {
   "cell_type": "code",
   "execution_count": 109,
   "id": "97f7400a",
   "metadata": {},
   "outputs": [
    {
     "data": {
      "text/plain": [
       "4-5 star    285\n",
       "3-4 star     60\n",
       "2-3 star      3\n",
       "Name: rating_bin, dtype: int64"
      ]
     },
     "execution_count": 109,
     "metadata": {},
     "output_type": "execute_result"
    }
   ],
   "source": [
    "test['rating_bin'].value_counts()"
   ]
  },
  {
   "cell_type": "code",
   "execution_count": 110,
   "id": "95a11c3a",
   "metadata": {},
   "outputs": [],
   "source": [
    "bins = np.linspace(test['Price_per_unit'].min(),test['Price_per_unit'].max(),4)\n",
    "labels=['Low price','Medium price','High price']\n",
    "test['Price_category'] = pd.qcut(test['Price_per_unit'], q=3, precision=1, labels=labels)"
   ]
  },
  {
   "cell_type": "code",
   "execution_count": 111,
   "id": "e7f2c78e",
   "metadata": {},
   "outputs": [
    {
     "data": {
      "text/html": [
       "<div>\n",
       "<style scoped>\n",
       "    .dataframe tbody tr th:only-of-type {\n",
       "        vertical-align: middle;\n",
       "    }\n",
       "\n",
       "    .dataframe tbody tr th {\n",
       "        vertical-align: top;\n",
       "    }\n",
       "\n",
       "    .dataframe thead th {\n",
       "        text-align: right;\n",
       "    }\n",
       "</style>\n",
       "<table border=\"1\" class=\"dataframe\">\n",
       "  <thead>\n",
       "    <tr style=\"text-align: right;\">\n",
       "      <th></th>\n",
       "      <th>Price_per_unit</th>\n",
       "      <th>rating</th>\n",
       "      <th>Rating_count</th>\n",
       "      <th>recommendation_percent</th>\n",
       "      <th>recommendation_prediction</th>\n",
       "      <th>rating_bin</th>\n",
       "      <th>Price_category</th>\n",
       "    </tr>\n",
       "  </thead>\n",
       "  <tbody>\n",
       "  </tbody>\n",
       "</table>\n",
       "</div>"
      ],
      "text/plain": [
       "Empty DataFrame\n",
       "Columns: [Price_per_unit, rating, Rating_count, recommendation_percent, recommendation_prediction, rating_bin, Price_category]\n",
       "Index: []"
      ]
     },
     "execution_count": 111,
     "metadata": {},
     "output_type": "execute_result"
    }
   ],
   "source": [
    "test[test['rating_bin']=='1-2 star']"
   ]
  },
  {
   "cell_type": "code",
   "execution_count": 112,
   "id": "d3cf3376",
   "metadata": {},
   "outputs": [
    {
     "data": {
      "image/png": "[encoded data removed]",
      "text/plain": [
       "<Figure size 648x648 with 1 Axes>"
      ]
     },
     "metadata": {
      "needs_background": "light"
     },
     "output_type": "display_data"
    }
   ],
   "source": [
    "fig,ax =plt.subplots(figsize=(9,9))\n",
    "sns.barplot(data = test, y='recommendation_percent',x='rating_bin', hue='Price_category' , ci=None)\n",
    "plt.title('Actual recommendation percentage of the test dataset in each Price category and Rating bin:')\n",
    "plt.xlabel('Average Rating of the product')\n",
    "plt.ylabel('Actual recommendation percentage')\n",
    "\n",
    "for p in ax.patches:\n",
    "    ax.annotate('{:.00f}%'.format(p.get_height()), (p.get_x()+0.04, p.get_height()+0.8))\n",
    "\n",
    "plt.legend(loc='upper left')\n",
    "plt.show()\n"
   ]
  },
  {
   "cell_type": "code",
   "execution_count": 113,
   "id": "2e26d47d",
   "metadata": {},
   "outputs": [
    {
     "data": {
      "image/png": "[encoded data removed]",
      "text/plain": [
       "<Figure size 648x648 with 1 Axes>"
      ]
     },
     "metadata": {
      "needs_background": "light"
     },
     "output_type": "display_data"
    }
   ],
   "source": [
    "fig,ax =plt.subplots(figsize=(9,9))\n",
    "sns.barplot(data = test, y='recommendation_prediction',x='rating_bin', hue='Price_category' , ci=None)\n",
    "plt.title('Predicted recommendation percentage of the test dataset in each Price category and Rating bin:')\n",
    "plt.xlabel('Average Rating of the product')\n",
    "plt.ylabel('Predicted recommendation percentage')\n",
    "\n",
    "for p in ax.patches:\n",
    "    ax.annotate('{:.00f}%'.format(p.get_height()), (p.get_x()+0.04, p.get_height()+0.8))\n",
    "\n",
    "plt.legend(loc='upper left')\n",
    "plt.show()\n"
   ]
  },
  {
   "cell_type": "code",
   "execution_count": null,
   "id": "d0bfb190",
   "metadata": {},
   "outputs": [],
   "source": []
  },
  {
   "cell_type": "code",
   "execution_count": 83,
   "id": "a444300d",
   "metadata": {},
   "outputs": [
    {
     "data": {
      "text/html": [
       "<div>\n",
       "<style scoped>\n",
       "    .dataframe tbody tr th:only-of-type {\n",
       "        vertical-align: middle;\n",
       "    }\n",
       "\n",
       "    .dataframe tbody tr th {\n",
       "        vertical-align: top;\n",
       "    }\n",
       "\n",
       "    .dataframe thead th {\n",
       "        text-align: right;\n",
       "    }\n",
       "</style>\n",
       "<table border=\"1\" class=\"dataframe\">\n",
       "  <thead>\n",
       "    <tr style=\"text-align: right;\">\n",
       "      <th></th>\n",
       "      <th>Product name</th>\n",
       "      <th>Price_per_unit</th>\n",
       "      <th>Rating</th>\n",
       "      <th>Rating_count</th>\n",
       "      <th>1 star count</th>\n",
       "      <th>2 star count</th>\n",
       "      <th>3 star count</th>\n",
       "      <th>4 star count</th>\n",
       "      <th>5 star count</th>\n",
       "      <th>Similar_product_1</th>\n",
       "      <th>...</th>\n",
       "      <th>511</th>\n",
       "      <th>1star_percent</th>\n",
       "      <th>2star_percent</th>\n",
       "      <th>3star_percent</th>\n",
       "      <th>4star_percent</th>\n",
       "      <th>5star_percent</th>\n",
       "      <th>pros_count</th>\n",
       "      <th>cons_count</th>\n",
       "      <th>rating_bin</th>\n",
       "      <th>Price_category</th>\n",
       "    </tr>\n",
       "  </thead>\n",
       "  <tbody>\n",
       "    <tr>\n",
       "      <th>86</th>\n",
       "      <td>Ritual Zero Proof Non-Alcoholic Whiskey 750ml</td>\n",
       "      <td>24.99</td>\n",
       "      <td>2.7</td>\n",
       "      <td>117</td>\n",
       "      <td>53</td>\n",
       "      <td>7</td>\n",
       "      <td>11</td>\n",
       "      <td>19</td>\n",
       "      <td>27</td>\n",
       "      <td>Ritual Zero Proof Non-Alcoholic Gin 750ml</td>\n",
       "      <td>...</td>\n",
       "      <td>-0.048975</td>\n",
       "      <td>0.452991</td>\n",
       "      <td>0.059829</td>\n",
       "      <td>0.094017</td>\n",
       "      <td>0.162393</td>\n",
       "      <td>0.230769</td>\n",
       "      <td>8.0</td>\n",
       "      <td>18.0</td>\n",
       "      <td>2-3 star</td>\n",
       "      <td>Medium price ($23.19-$49.99) USD</td>\n",
       "    </tr>\n",
       "    <tr>\n",
       "      <th>88</th>\n",
       "      <td>Rogue Dead Guy Whiskey 750ml</td>\n",
       "      <td>37.99</td>\n",
       "      <td>3.0</td>\n",
       "      <td>18</td>\n",
       "      <td>6</td>\n",
       "      <td>3</td>\n",
       "      <td>0</td>\n",
       "      <td>3</td>\n",
       "      <td>6</td>\n",
       "      <td>Oregon Spirit Straight Bourbon 750ml</td>\n",
       "      <td>...</td>\n",
       "      <td>0.018497</td>\n",
       "      <td>0.333333</td>\n",
       "      <td>0.166667</td>\n",
       "      <td>0.000000</td>\n",
       "      <td>0.166667</td>\n",
       "      <td>0.333333</td>\n",
       "      <td>2.0</td>\n",
       "      <td>NaN</td>\n",
       "      <td>2-3 star</td>\n",
       "      <td>Medium price ($23.19-$49.99) USD</td>\n",
       "    </tr>\n",
       "    <tr>\n",
       "      <th>524</th>\n",
       "      <td>Hickory Hill Cask Strength 750ml</td>\n",
       "      <td>44.99</td>\n",
       "      <td>2.1</td>\n",
       "      <td>47</td>\n",
       "      <td>30</td>\n",
       "      <td>3</td>\n",
       "      <td>2</td>\n",
       "      <td>4</td>\n",
       "      <td>8</td>\n",
       "      <td>Bib &amp; Tucker 6 Year Bourbon 750ml</td>\n",
       "      <td>...</td>\n",
       "      <td>0.031040</td>\n",
       "      <td>0.638298</td>\n",
       "      <td>0.063830</td>\n",
       "      <td>0.042553</td>\n",
       "      <td>0.085106</td>\n",
       "      <td>0.170213</td>\n",
       "      <td>6.0</td>\n",
       "      <td>NaN</td>\n",
       "      <td>2-3 star</td>\n",
       "      <td>Medium price ($23.19-$49.99) USD</td>\n",
       "    </tr>\n",
       "    <tr>\n",
       "      <th>595</th>\n",
       "      <td>Giant TX Bourbon Black 750ml</td>\n",
       "      <td>17.99</td>\n",
       "      <td>2.7</td>\n",
       "      <td>22</td>\n",
       "      <td>10</td>\n",
       "      <td>2</td>\n",
       "      <td>0</td>\n",
       "      <td>4</td>\n",
       "      <td>6</td>\n",
       "      <td>Krova Vodka 750ml</td>\n",
       "      <td>...</td>\n",
       "      <td>-0.033651</td>\n",
       "      <td>0.454545</td>\n",
       "      <td>0.090909</td>\n",
       "      <td>0.000000</td>\n",
       "      <td>0.181818</td>\n",
       "      <td>0.272727</td>\n",
       "      <td>5.0</td>\n",
       "      <td>19.0</td>\n",
       "      <td>2-3 star</td>\n",
       "      <td>Low price ($0.79-$22.99) USD</td>\n",
       "    </tr>\n",
       "    <tr>\n",
       "      <th>668</th>\n",
       "      <td>Singletree Small Batch Bourbon 750ml</td>\n",
       "      <td>26.99</td>\n",
       "      <td>2.8</td>\n",
       "      <td>22</td>\n",
       "      <td>6</td>\n",
       "      <td>5</td>\n",
       "      <td>3</td>\n",
       "      <td>3</td>\n",
       "      <td>5</td>\n",
       "      <td>NaN</td>\n",
       "      <td>...</td>\n",
       "      <td>-0.038203</td>\n",
       "      <td>0.272727</td>\n",
       "      <td>0.227273</td>\n",
       "      <td>0.136364</td>\n",
       "      <td>0.136364</td>\n",
       "      <td>0.227273</td>\n",
       "      <td>2.0</td>\n",
       "      <td>NaN</td>\n",
       "      <td>2-3 star</td>\n",
       "      <td>Medium price ($23.19-$49.99) USD</td>\n",
       "    </tr>\n",
       "    <tr>\n",
       "      <th>680</th>\n",
       "      <td>Giant TX Bourbon 91 Proof Gold 750ml</td>\n",
       "      <td>18.99</td>\n",
       "      <td>2.1</td>\n",
       "      <td>17</td>\n",
       "      <td>11</td>\n",
       "      <td>1</td>\n",
       "      <td>1</td>\n",
       "      <td>0</td>\n",
       "      <td>4</td>\n",
       "      <td>NaN</td>\n",
       "      <td>...</td>\n",
       "      <td>0.055245</td>\n",
       "      <td>0.647059</td>\n",
       "      <td>0.058824</td>\n",
       "      <td>0.058824</td>\n",
       "      <td>0.000000</td>\n",
       "      <td>0.235294</td>\n",
       "      <td>8.0</td>\n",
       "      <td>NaN</td>\n",
       "      <td>2-3 star</td>\n",
       "      <td>Low price ($0.79-$22.99) USD</td>\n",
       "    </tr>\n",
       "    <tr>\n",
       "      <th>792</th>\n",
       "      <td>Bent Wing Brandy 750ml</td>\n",
       "      <td>29.99</td>\n",
       "      <td>3.0</td>\n",
       "      <td>4</td>\n",
       "      <td>1</td>\n",
       "      <td>1</td>\n",
       "      <td>0</td>\n",
       "      <td>1</td>\n",
       "      <td>1</td>\n",
       "      <td>Bormioli Elixer DOF 4pk</td>\n",
       "      <td>...</td>\n",
       "      <td>0.032857</td>\n",
       "      <td>0.250000</td>\n",
       "      <td>0.250000</td>\n",
       "      <td>0.000000</td>\n",
       "      <td>0.250000</td>\n",
       "      <td>0.250000</td>\n",
       "      <td>3.0</td>\n",
       "      <td>NaN</td>\n",
       "      <td>2-3 star</td>\n",
       "      <td>Medium price ($23.19-$49.99) USD</td>\n",
       "    </tr>\n",
       "    <tr>\n",
       "      <th>1226</th>\n",
       "      <td>Macallan \"M\" Crystal Decanter 750ml</td>\n",
       "      <td>5999.90</td>\n",
       "      <td>2.9</td>\n",
       "      <td>7</td>\n",
       "      <td>3</td>\n",
       "      <td>0</td>\n",
       "      <td>1</td>\n",
       "      <td>1</td>\n",
       "      <td>2</td>\n",
       "      <td>Blue Vin Riesling 750ml</td>\n",
       "      <td>...</td>\n",
       "      <td>-0.048053</td>\n",
       "      <td>0.428571</td>\n",
       "      <td>0.000000</td>\n",
       "      <td>0.142857</td>\n",
       "      <td>0.142857</td>\n",
       "      <td>0.285714</td>\n",
       "      <td>4.0</td>\n",
       "      <td>NaN</td>\n",
       "      <td>2-3 star</td>\n",
       "      <td>High price ($50.99-$5999.90) USD</td>\n",
       "    </tr>\n",
       "    <tr>\n",
       "      <th>1228</th>\n",
       "      <td>Macallan \"M\" Crystal Decanter 750ml</td>\n",
       "      <td>5999.90</td>\n",
       "      <td>2.9</td>\n",
       "      <td>7</td>\n",
       "      <td>3</td>\n",
       "      <td>0</td>\n",
       "      <td>1</td>\n",
       "      <td>1</td>\n",
       "      <td>2</td>\n",
       "      <td>Blue Vin Riesling 750ml</td>\n",
       "      <td>...</td>\n",
       "      <td>-0.048053</td>\n",
       "      <td>0.428571</td>\n",
       "      <td>0.000000</td>\n",
       "      <td>0.142857</td>\n",
       "      <td>0.142857</td>\n",
       "      <td>0.285714</td>\n",
       "      <td>4.0</td>\n",
       "      <td>NaN</td>\n",
       "      <td>2-3 star</td>\n",
       "      <td>High price ($50.99-$5999.90) USD</td>\n",
       "    </tr>\n",
       "    <tr>\n",
       "      <th>1633</th>\n",
       "      <td>Smooth Ambler Big Level Wheated Bourbon 750ml</td>\n",
       "      <td>119.99</td>\n",
       "      <td>2.9</td>\n",
       "      <td>17</td>\n",
       "      <td>8</td>\n",
       "      <td>0</td>\n",
       "      <td>1</td>\n",
       "      <td>1</td>\n",
       "      <td>7</td>\n",
       "      <td>Redemption Wheated Bourbon 750ml</td>\n",
       "      <td>...</td>\n",
       "      <td>NaN</td>\n",
       "      <td>0.470588</td>\n",
       "      <td>0.000000</td>\n",
       "      <td>0.058824</td>\n",
       "      <td>0.058824</td>\n",
       "      <td>0.411765</td>\n",
       "      <td>10.0</td>\n",
       "      <td>NaN</td>\n",
       "      <td>2-3 star</td>\n",
       "      <td>High price ($50.99-$5999.90) USD</td>\n",
       "    </tr>\n",
       "  </tbody>\n",
       "</table>\n",
       "<p>10 rows × 554 columns</p>\n",
       "</div>"
      ],
      "text/plain": [
       "                                       Product name  Price_per_unit  Rating  \\\n",
       "86    Ritual Zero Proof Non-Alcoholic Whiskey 750ml           24.99     2.7   \n",
       "88                     Rogue Dead Guy Whiskey 750ml           37.99     3.0   \n",
       "524                Hickory Hill Cask Strength 750ml           44.99     2.1   \n",
       "595                    Giant TX Bourbon Black 750ml           17.99     2.7   \n",
       "668            Singletree Small Batch Bourbon 750ml           26.99     2.8   \n",
       "680            Giant TX Bourbon 91 Proof Gold 750ml           18.99     2.1   \n",
       "792                          Bent Wing Brandy 750ml           29.99     3.0   \n",
       "1226            Macallan \"M\" Crystal Decanter 750ml         5999.90     2.9   \n",
       "1228            Macallan \"M\" Crystal Decanter 750ml         5999.90     2.9   \n",
       "1633  Smooth Ambler Big Level Wheated Bourbon 750ml          119.99     2.9   \n",
       "\n",
       "      Rating_count  1 star count  2 star count  3 star count  4 star count  \\\n",
       "86             117            53             7            11            19   \n",
       "88              18             6             3             0             3   \n",
       "524             47            30             3             2             4   \n",
       "595             22            10             2             0             4   \n",
       "668             22             6             5             3             3   \n",
       "680             17            11             1             1             0   \n",
       "792              4             1             1             0             1   \n",
       "1226             7             3             0             1             1   \n",
       "1228             7             3             0             1             1   \n",
       "1633            17             8             0             1             1   \n",
       "\n",
       "      5 star count                          Similar_product_1  ...       511  \\\n",
       "86              27  Ritual Zero Proof Non-Alcoholic Gin 750ml  ... -0.048975   \n",
       "88               6       Oregon Spirit Straight Bourbon 750ml  ...  0.018497   \n",
       "524              8          Bib & Tucker 6 Year Bourbon 750ml  ...  0.031040   \n",
       "595              6                          Krova Vodka 750ml  ... -0.033651   \n",
       "668              5                                        NaN  ... -0.038203   \n",
       "680              4                                        NaN  ...  0.055245   \n",
       "792              1                    Bormioli Elixer DOF 4pk  ...  0.032857   \n",
       "1226             2                    Blue Vin Riesling 750ml  ... -0.048053   \n",
       "1228             2                    Blue Vin Riesling 750ml  ... -0.048053   \n",
       "1633             7           Redemption Wheated Bourbon 750ml  ...       NaN   \n",
       "\n",
       "     1star_percent  2star_percent 3star_percent  4star_percent 5star_percent  \\\n",
       "86        0.452991       0.059829      0.094017       0.162393      0.230769   \n",
       "88        0.333333       0.166667      0.000000       0.166667      0.333333   \n",
       "524       0.638298       0.063830      0.042553       0.085106      0.170213   \n",
       "595       0.454545       0.090909      0.000000       0.181818      0.272727   \n",
       "668       0.272727       0.227273      0.136364       0.136364      0.227273   \n",
       "680       0.647059       0.058824      0.058824       0.000000      0.235294   \n",
       "792       0.250000       0.250000      0.000000       0.250000      0.250000   \n",
       "1226      0.428571       0.000000      0.142857       0.142857      0.285714   \n",
       "1228      0.428571       0.000000      0.142857       0.142857      0.285714   \n",
       "1633      0.470588       0.000000      0.058824       0.058824      0.411765   \n",
       "\n",
       "      pros_count cons_count  rating_bin                    Price_category  \n",
       "86           8.0       18.0    2-3 star  Medium price ($23.19-$49.99) USD  \n",
       "88           2.0        NaN    2-3 star  Medium price ($23.19-$49.99) USD  \n",
       "524          6.0        NaN    2-3 star  Medium price ($23.19-$49.99) USD  \n",
       "595          5.0       19.0    2-3 star      Low price ($0.79-$22.99) USD  \n",
       "668          2.0        NaN    2-3 star  Medium price ($23.19-$49.99) USD  \n",
       "680          8.0        NaN    2-3 star      Low price ($0.79-$22.99) USD  \n",
       "792          3.0        NaN    2-3 star  Medium price ($23.19-$49.99) USD  \n",
       "1226         4.0        NaN    2-3 star  High price ($50.99-$5999.90) USD  \n",
       "1228         4.0        NaN    2-3 star  High price ($50.99-$5999.90) USD  \n",
       "1633        10.0        NaN    2-3 star  High price ($50.99-$5999.90) USD  \n",
       "\n",
       "[10 rows x 554 columns]"
      ]
     },
     "execution_count": 83,
     "metadata": {},
     "output_type": "execute_result"
    }
   ],
   "source": [
    "t[t['rating_bin']=='2-3 star']"
   ]
  },
  {
   "cell_type": "code",
   "execution_count": 41,
   "id": "c540a407",
   "metadata": {},
   "outputs": [],
   "source": [
    "t=df[df['recommendation_percent'].notnull()]"
   ]
  },
  {
   "cell_type": "code",
   "execution_count": 47,
   "id": "d39486cf",
   "metadata": {},
   "outputs": [
    {
     "data": {
      "text/plain": [
       "(1191, 554)"
      ]
     },
     "execution_count": 47,
     "metadata": {},
     "output_type": "execute_result"
    }
   ],
   "source": [
    "t.shape"
   ]
  },
  {
   "cell_type": "code",
   "execution_count": 48,
   "id": "d206c030",
   "metadata": {},
   "outputs": [
    {
     "data": {
      "text/html": [
       "<div>\n",
       "<style scoped>\n",
       "    .dataframe tbody tr th:only-of-type {\n",
       "        vertical-align: middle;\n",
       "    }\n",
       "\n",
       "    .dataframe tbody tr th {\n",
       "        vertical-align: top;\n",
       "    }\n",
       "\n",
       "    .dataframe thead th {\n",
       "        text-align: right;\n",
       "    }\n",
       "</style>\n",
       "<table border=\"1\" class=\"dataframe\">\n",
       "  <thead>\n",
       "    <tr style=\"text-align: right;\">\n",
       "      <th></th>\n",
       "      <th>Product name</th>\n",
       "      <th>Price_per_unit</th>\n",
       "      <th>Rating</th>\n",
       "      <th>Rating_count</th>\n",
       "      <th>1 star count</th>\n",
       "      <th>2 star count</th>\n",
       "      <th>3 star count</th>\n",
       "      <th>4 star count</th>\n",
       "      <th>5 star count</th>\n",
       "      <th>Similar_product_1</th>\n",
       "      <th>...</th>\n",
       "      <th>511</th>\n",
       "      <th>1star_percent</th>\n",
       "      <th>2star_percent</th>\n",
       "      <th>3star_percent</th>\n",
       "      <th>4star_percent</th>\n",
       "      <th>5star_percent</th>\n",
       "      <th>pros_count</th>\n",
       "      <th>cons_count</th>\n",
       "      <th>rating_bin</th>\n",
       "      <th>Price_category</th>\n",
       "    </tr>\n",
       "  </thead>\n",
       "  <tbody>\n",
       "    <tr>\n",
       "      <th>0</th>\n",
       "      <td>McFarlane'S Reserve Kentucky Straight Bourbon ...</td>\n",
       "      <td>36.99</td>\n",
       "      <td>3.8</td>\n",
       "      <td>146</td>\n",
       "      <td>9</td>\n",
       "      <td>18</td>\n",
       "      <td>17</td>\n",
       "      <td>47</td>\n",
       "      <td>55</td>\n",
       "      <td>First Call Kentucky Straight Bourbon 1.75L</td>\n",
       "      <td>...</td>\n",
       "      <td>0.043817</td>\n",
       "      <td>0.061644</td>\n",
       "      <td>0.123288</td>\n",
       "      <td>0.116438</td>\n",
       "      <td>0.321918</td>\n",
       "      <td>0.376712</td>\n",
       "      <td>58.0</td>\n",
       "      <td>NaN</td>\n",
       "      <td>3-4 star</td>\n",
       "      <td>Medium price ($23.19-$49.99) USD</td>\n",
       "    </tr>\n",
       "    <tr>\n",
       "      <th>1</th>\n",
       "      <td>Jim Beam Bourbon Whiskey 1.75l</td>\n",
       "      <td>18.99</td>\n",
       "      <td>4.6</td>\n",
       "      <td>471</td>\n",
       "      <td>7</td>\n",
       "      <td>7</td>\n",
       "      <td>24</td>\n",
       "      <td>72</td>\n",
       "      <td>361</td>\n",
       "      <td>Tower Vodka 1.75L</td>\n",
       "      <td>...</td>\n",
       "      <td>0.032752</td>\n",
       "      <td>0.014862</td>\n",
       "      <td>0.014862</td>\n",
       "      <td>0.050955</td>\n",
       "      <td>0.152866</td>\n",
       "      <td>0.766454</td>\n",
       "      <td>105.0</td>\n",
       "      <td>NaN</td>\n",
       "      <td>4-5 star</td>\n",
       "      <td>Low price ($0.79-$22.99) USD</td>\n",
       "    </tr>\n",
       "    <tr>\n",
       "      <th>2</th>\n",
       "      <td>Skatterbrain Peanut Butter Whiskey 750ml</td>\n",
       "      <td>15.99</td>\n",
       "      <td>4.4</td>\n",
       "      <td>436</td>\n",
       "      <td>22</td>\n",
       "      <td>20</td>\n",
       "      <td>21</td>\n",
       "      <td>73</td>\n",
       "      <td>300</td>\n",
       "      <td>Skatterbrain Dark Chocolate Banana Whiskey 750ml</td>\n",
       "      <td>...</td>\n",
       "      <td>-0.049115</td>\n",
       "      <td>0.050459</td>\n",
       "      <td>0.045872</td>\n",
       "      <td>0.048165</td>\n",
       "      <td>0.167431</td>\n",
       "      <td>0.688073</td>\n",
       "      <td>129.0</td>\n",
       "      <td>NaN</td>\n",
       "      <td>4-5 star</td>\n",
       "      <td>Low price ($0.79-$22.99) USD</td>\n",
       "    </tr>\n",
       "    <tr>\n",
       "      <th>3</th>\n",
       "      <td>Johnnie Walker Blue Label 750ml</td>\n",
       "      <td>194.90</td>\n",
       "      <td>4.7</td>\n",
       "      <td>772</td>\n",
       "      <td>11</td>\n",
       "      <td>9</td>\n",
       "      <td>36</td>\n",
       "      <td>101</td>\n",
       "      <td>615</td>\n",
       "      <td>Chivas Royal Salute 21 Yr 750ml</td>\n",
       "      <td>...</td>\n",
       "      <td>-0.042576</td>\n",
       "      <td>0.014249</td>\n",
       "      <td>0.011658</td>\n",
       "      <td>0.046632</td>\n",
       "      <td>0.130829</td>\n",
       "      <td>0.796632</td>\n",
       "      <td>2.0</td>\n",
       "      <td>NaN</td>\n",
       "      <td>4-5 star</td>\n",
       "      <td>High price ($50.99-$5999.90) USD</td>\n",
       "    </tr>\n",
       "    <tr>\n",
       "      <th>4</th>\n",
       "      <td>Bulleit Bourbon 1.75l</td>\n",
       "      <td>35.99</td>\n",
       "      <td>4.6</td>\n",
       "      <td>1297</td>\n",
       "      <td>7</td>\n",
       "      <td>14</td>\n",
       "      <td>53</td>\n",
       "      <td>281</td>\n",
       "      <td>942</td>\n",
       "      <td>Redemption Wheated Bourbon 750ml</td>\n",
       "      <td>...</td>\n",
       "      <td>0.046938</td>\n",
       "      <td>0.005397</td>\n",
       "      <td>0.010794</td>\n",
       "      <td>0.040864</td>\n",
       "      <td>0.216654</td>\n",
       "      <td>0.726291</td>\n",
       "      <td>100.0</td>\n",
       "      <td>NaN</td>\n",
       "      <td>4-5 star</td>\n",
       "      <td>Medium price ($23.19-$49.99) USD</td>\n",
       "    </tr>\n",
       "    <tr>\n",
       "      <th>...</th>\n",
       "      <td>...</td>\n",
       "      <td>...</td>\n",
       "      <td>...</td>\n",
       "      <td>...</td>\n",
       "      <td>...</td>\n",
       "      <td>...</td>\n",
       "      <td>...</td>\n",
       "      <td>...</td>\n",
       "      <td>...</td>\n",
       "      <td>...</td>\n",
       "      <td>...</td>\n",
       "      <td>...</td>\n",
       "      <td>...</td>\n",
       "      <td>...</td>\n",
       "      <td>...</td>\n",
       "      <td>...</td>\n",
       "      <td>...</td>\n",
       "      <td>...</td>\n",
       "      <td>...</td>\n",
       "      <td>...</td>\n",
       "      <td>...</td>\n",
       "    </tr>\n",
       "    <tr>\n",
       "      <th>1689</th>\n",
       "      <td>Johnnie Walker 18 Year Old 750ml</td>\n",
       "      <td>99.99</td>\n",
       "      <td>4.6</td>\n",
       "      <td>35</td>\n",
       "      <td>1</td>\n",
       "      <td>1</td>\n",
       "      <td>0</td>\n",
       "      <td>6</td>\n",
       "      <td>27</td>\n",
       "      <td>Dalmore 12 Year Sherry Cask Select 750ml</td>\n",
       "      <td>...</td>\n",
       "      <td>NaN</td>\n",
       "      <td>0.028571</td>\n",
       "      <td>0.028571</td>\n",
       "      <td>0.000000</td>\n",
       "      <td>0.171429</td>\n",
       "      <td>0.771429</td>\n",
       "      <td>7.0</td>\n",
       "      <td>NaN</td>\n",
       "      <td>4-5 star</td>\n",
       "      <td>High price ($50.99-$5999.90) USD</td>\n",
       "    </tr>\n",
       "    <tr>\n",
       "      <th>1690</th>\n",
       "      <td>Glenlivet Founder'S Reserve 750ml</td>\n",
       "      <td>30.99</td>\n",
       "      <td>4.6</td>\n",
       "      <td>216</td>\n",
       "      <td>7</td>\n",
       "      <td>1</td>\n",
       "      <td>7</td>\n",
       "      <td>49</td>\n",
       "      <td>152</td>\n",
       "      <td>Shieldaig Speyside Single Malt 12Yr 750ml</td>\n",
       "      <td>...</td>\n",
       "      <td>NaN</td>\n",
       "      <td>0.032407</td>\n",
       "      <td>0.004630</td>\n",
       "      <td>0.032407</td>\n",
       "      <td>0.226852</td>\n",
       "      <td>0.703704</td>\n",
       "      <td>54.0</td>\n",
       "      <td>NaN</td>\n",
       "      <td>4-5 star</td>\n",
       "      <td>Medium price ($23.19-$49.99) USD</td>\n",
       "    </tr>\n",
       "    <tr>\n",
       "      <th>1691</th>\n",
       "      <td>Russell'S Reserve 10yr Bourbon 750ml</td>\n",
       "      <td>33.99</td>\n",
       "      <td>4.6</td>\n",
       "      <td>55</td>\n",
       "      <td>0</td>\n",
       "      <td>0</td>\n",
       "      <td>1</td>\n",
       "      <td>22</td>\n",
       "      <td>32</td>\n",
       "      <td>Wolcott Kentucky Straight Bourbon 750ml</td>\n",
       "      <td>...</td>\n",
       "      <td>NaN</td>\n",
       "      <td>0.000000</td>\n",
       "      <td>0.000000</td>\n",
       "      <td>0.018182</td>\n",
       "      <td>0.400000</td>\n",
       "      <td>0.581818</td>\n",
       "      <td>10.0</td>\n",
       "      <td>NaN</td>\n",
       "      <td>4-5 star</td>\n",
       "      <td>Medium price ($23.19-$49.99) USD</td>\n",
       "    </tr>\n",
       "    <tr>\n",
       "      <th>1692</th>\n",
       "      <td>Glenlivet 14 Year 750ml</td>\n",
       "      <td>46.99</td>\n",
       "      <td>4.7</td>\n",
       "      <td>48</td>\n",
       "      <td>0</td>\n",
       "      <td>1</td>\n",
       "      <td>3</td>\n",
       "      <td>7</td>\n",
       "      <td>37</td>\n",
       "      <td>Smokehead High Voltage Whisky 750ml</td>\n",
       "      <td>...</td>\n",
       "      <td>NaN</td>\n",
       "      <td>0.000000</td>\n",
       "      <td>0.020833</td>\n",
       "      <td>0.062500</td>\n",
       "      <td>0.145833</td>\n",
       "      <td>0.770833</td>\n",
       "      <td>2.0</td>\n",
       "      <td>NaN</td>\n",
       "      <td>4-5 star</td>\n",
       "      <td>Medium price ($23.19-$49.99) USD</td>\n",
       "    </tr>\n",
       "    <tr>\n",
       "      <th>1693</th>\n",
       "      <td>Ardbeg Uigeadail 750ml</td>\n",
       "      <td>69.99</td>\n",
       "      <td>4.6</td>\n",
       "      <td>88</td>\n",
       "      <td>5</td>\n",
       "      <td>1</td>\n",
       "      <td>2</td>\n",
       "      <td>5</td>\n",
       "      <td>75</td>\n",
       "      <td>Dalmore 12 Year Sherry Cask Select 750ml</td>\n",
       "      <td>...</td>\n",
       "      <td>NaN</td>\n",
       "      <td>0.056818</td>\n",
       "      <td>0.011364</td>\n",
       "      <td>0.022727</td>\n",
       "      <td>0.056818</td>\n",
       "      <td>0.852273</td>\n",
       "      <td>21.0</td>\n",
       "      <td>3.0</td>\n",
       "      <td>4-5 star</td>\n",
       "      <td>High price ($50.99-$5999.90) USD</td>\n",
       "    </tr>\n",
       "  </tbody>\n",
       "</table>\n",
       "<p>1191 rows × 554 columns</p>\n",
       "</div>"
      ],
      "text/plain": [
       "                                           Product name  Price_per_unit  \\\n",
       "0     McFarlane'S Reserve Kentucky Straight Bourbon ...           36.99   \n",
       "1                        Jim Beam Bourbon Whiskey 1.75l           18.99   \n",
       "2              Skatterbrain Peanut Butter Whiskey 750ml           15.99   \n",
       "3                       Johnnie Walker Blue Label 750ml          194.90   \n",
       "4                                 Bulleit Bourbon 1.75l           35.99   \n",
       "...                                                 ...             ...   \n",
       "1689                   Johnnie Walker 18 Year Old 750ml           99.99   \n",
       "1690                  Glenlivet Founder'S Reserve 750ml           30.99   \n",
       "1691               Russell'S Reserve 10yr Bourbon 750ml           33.99   \n",
       "1692                            Glenlivet 14 Year 750ml           46.99   \n",
       "1693                             Ardbeg Uigeadail 750ml           69.99   \n",
       "\n",
       "      Rating  Rating_count  1 star count  2 star count  3 star count  \\\n",
       "0        3.8           146             9            18            17   \n",
       "1        4.6           471             7             7            24   \n",
       "2        4.4           436            22            20            21   \n",
       "3        4.7           772            11             9            36   \n",
       "4        4.6          1297             7            14            53   \n",
       "...      ...           ...           ...           ...           ...   \n",
       "1689     4.6            35             1             1             0   \n",
       "1690     4.6           216             7             1             7   \n",
       "1691     4.6            55             0             0             1   \n",
       "1692     4.7            48             0             1             3   \n",
       "1693     4.6            88             5             1             2   \n",
       "\n",
       "      4 star count  5 star count  \\\n",
       "0               47            55   \n",
       "1               72           361   \n",
       "2               73           300   \n",
       "3              101           615   \n",
       "4              281           942   \n",
       "...            ...           ...   \n",
       "1689             6            27   \n",
       "1690            49           152   \n",
       "1691            22            32   \n",
       "1692             7            37   \n",
       "1693             5            75   \n",
       "\n",
       "                                     Similar_product_1  ...       511  \\\n",
       "0           First Call Kentucky Straight Bourbon 1.75L  ...  0.043817   \n",
       "1                                    Tower Vodka 1.75L  ...  0.032752   \n",
       "2     Skatterbrain Dark Chocolate Banana Whiskey 750ml  ... -0.049115   \n",
       "3                      Chivas Royal Salute 21 Yr 750ml  ... -0.042576   \n",
       "4                     Redemption Wheated Bourbon 750ml  ...  0.046938   \n",
       "...                                                ...  ...       ...   \n",
       "1689          Dalmore 12 Year Sherry Cask Select 750ml  ...       NaN   \n",
       "1690         Shieldaig Speyside Single Malt 12Yr 750ml  ...       NaN   \n",
       "1691           Wolcott Kentucky Straight Bourbon 750ml  ...       NaN   \n",
       "1692               Smokehead High Voltage Whisky 750ml  ...       NaN   \n",
       "1693          Dalmore 12 Year Sherry Cask Select 750ml  ...       NaN   \n",
       "\n",
       "     1star_percent  2star_percent 3star_percent  4star_percent 5star_percent  \\\n",
       "0         0.061644       0.123288      0.116438       0.321918      0.376712   \n",
       "1         0.014862       0.014862      0.050955       0.152866      0.766454   \n",
       "2         0.050459       0.045872      0.048165       0.167431      0.688073   \n",
       "3         0.014249       0.011658      0.046632       0.130829      0.796632   \n",
       "4         0.005397       0.010794      0.040864       0.216654      0.726291   \n",
       "...            ...            ...           ...            ...           ...   \n",
       "1689      0.028571       0.028571      0.000000       0.171429      0.771429   \n",
       "1690      0.032407       0.004630      0.032407       0.226852      0.703704   \n",
       "1691      0.000000       0.000000      0.018182       0.400000      0.581818   \n",
       "1692      0.000000       0.020833      0.062500       0.145833      0.770833   \n",
       "1693      0.056818       0.011364      0.022727       0.056818      0.852273   \n",
       "\n",
       "      pros_count cons_count  rating_bin                    Price_category  \n",
       "0           58.0        NaN    3-4 star  Medium price ($23.19-$49.99) USD  \n",
       "1          105.0        NaN    4-5 star      Low price ($0.79-$22.99) USD  \n",
       "2          129.0        NaN    4-5 star      Low price ($0.79-$22.99) USD  \n",
       "3            2.0        NaN    4-5 star  High price ($50.99-$5999.90) USD  \n",
       "4          100.0        NaN    4-5 star  Medium price ($23.19-$49.99) USD  \n",
       "...          ...        ...         ...                               ...  \n",
       "1689         7.0        NaN    4-5 star  High price ($50.99-$5999.90) USD  \n",
       "1690        54.0        NaN    4-5 star  Medium price ($23.19-$49.99) USD  \n",
       "1691        10.0        NaN    4-5 star  Medium price ($23.19-$49.99) USD  \n",
       "1692         2.0        NaN    4-5 star  Medium price ($23.19-$49.99) USD  \n",
       "1693        21.0        3.0    4-5 star  High price ($50.99-$5999.90) USD  \n",
       "\n",
       "[1191 rows x 554 columns]"
      ]
     },
     "execution_count": 48,
     "metadata": {},
     "output_type": "execute_result"
    }
   ],
   "source": [
    "t"
   ]
  },
  {
   "cell_type": "code",
   "execution_count": null,
   "id": "93c45760",
   "metadata": {},
   "outputs": [],
   "source": []
  }
 ],
 "metadata": {
  "kernelspec": {
   "display_name": "Python 3",
   "language": "python",
   "name": "python3"
  },
  "language_info": {
   "codemirror_mode": {
    "name": "ipython",
    "version": 3
   },
   "file_extension": ".py",
   "mimetype": "text/x-python",
   "name": "python",
   "nbconvert_exporter": "python",
   "pygments_lexer": "ipython3",
   "version": "3.8.8"
  }
 },
 "nbformat": 4,
 "nbformat_minor": 5
}
